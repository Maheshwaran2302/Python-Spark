{
 "cells": [
  {
   "cell_type": "code",
   "execution_count": 3,
   "metadata": {},
   "outputs": [],
   "source": [
    "import findspark"
   ]
  },
  {
   "cell_type": "code",
   "execution_count": 4,
   "metadata": {},
   "outputs": [],
   "source": [
    "import pyspark\n",
    "from pyspark.sql import functions as f"
   ]
  },
  {
   "cell_type": "code",
   "execution_count": 5,
   "metadata": {},
   "outputs": [
    {
     "data": {
      "text/plain": [
       "'C:\\\\Spark\\\\spark-3.0.1-bin-hadoop2.7'"
      ]
     },
     "execution_count": 5,
     "metadata": {},
     "output_type": "execute_result"
    }
   ],
   "source": [
    "findspark.init()\n",
    "findspark.find()"
   ]
  },
  {
   "cell_type": "code",
   "execution_count": 183,
   "metadata": {},
   "outputs": [],
   "source": [
    "df=spark.read.csv(\"D:\\Trim 4\\Data Visualisation\\P1-UK-Bank-Customers-Chapter 4.csv\",inferSchema= True,header=True)"
   ]
  },
  {
   "cell_type": "code",
   "execution_count": 40,
   "metadata": {},
   "outputs": [
    {
     "name": "stdout",
     "output_type": "stream",
     "text": [
      "root\n",
      " |-- Customer ID: integer (nullable = true)\n",
      " |-- Name: string (nullable = true)\n",
      " |-- Surname: string (nullable = true)\n",
      " |-- Gender: string (nullable = true)\n",
      " |-- Age: integer (nullable = true)\n",
      " |-- Region: string (nullable = true)\n",
      " |-- JobClassification: string (nullable = true)\n",
      " |-- DateJoined: string (nullable = true)\n",
      " |-- Balance: double (nullable = true)\n",
      " |-- Date: string (nullable = true)\n",
      "\n"
     ]
    }
   ],
   "source": [
    "df.printSchema()"
   ]
  },
  {
   "cell_type": "code",
   "execution_count": 114,
   "metadata": {},
   "outputs": [],
   "source": [
    "from pyspark.sql.types import *\n",
    "df = df.withColumn(\"Date\",df.Date.cast(DateType()))"
   ]
  },
  {
   "cell_type": "code",
   "execution_count": 115,
   "metadata": {},
   "outputs": [
    {
     "data": {
      "text/plain": [
       "[('Customer ID', 'int'),\n",
       " ('Name', 'string'),\n",
       " ('Surname', 'string'),\n",
       " ('Gender', 'string'),\n",
       " ('Age', 'int'),\n",
       " ('Region', 'string'),\n",
       " ('JobClassification', 'string'),\n",
       " ('DateJoined', 'string'),\n",
       " ('Balance', 'double'),\n",
       " ('Date', 'date')]"
      ]
     },
     "execution_count": 115,
     "metadata": {},
     "output_type": "execute_result"
    }
   ],
   "source": [
    "df.dtypes"
   ]
  },
  {
   "cell_type": "code",
   "execution_count": 116,
   "metadata": {},
   "outputs": [
    {
     "name": "stdout",
     "output_type": "stream",
     "text": [
      "+-----------+---------+---------+------+---+----------------+-----------------+----------+---------+----------+\n",
      "|Customer ID|     Name|  Surname|Gender|Age|          Region|JobClassification|DateJoined|  Balance|      Date|\n",
      "+-----------+---------+---------+------+---+----------------+-----------------+----------+---------+----------+\n",
      "|  100000001|    Simon|    Walsh|  Male| 21|         England|     White Collar| 05.Jan.15|113810.15|2021-01-01|\n",
      "|  400000002|  Jasmine|   Miller|Female| 34|Northern Ireland|      Blue Collar| 06.Jan.15| 36919.73|2021-01-01|\n",
      "|  100000003|     Liam|    Brown|  Male| 46|         England|     White Collar| 07.Jan.15|101536.83|2021-01-01|\n",
      "|  300000004|   Trevor|     Parr|  Male| 32|           Wales|     White Collar| 08.Jan.15|  1421.52|2021-01-01|\n",
      "|  100000005|  Deirdre|  Pullman|Female| 38|         England|      Blue Collar| 09.Jan.15| 35639.79|2021-01-01|\n",
      "|  300000006|      Ava|  Coleman|Female| 30|           Wales|      Blue Collar| 09.Jan.15|122443.77|2021-01-01|\n",
      "|  100000007|  Dorothy|  Thomson|Female| 34|         England|      Blue Collar| 11.Jan.15| 42879.84|2021-01-01|\n",
      "|  200000008|     Lisa|     Knox|Female| 48|        Scotland|            Other| 11.Jan.15| 36680.17|2021-01-01|\n",
      "|  300000009|     Ruth| Campbell|Female| 33|           Wales|     White Collar| 11.Jan.15| 74284.35|2021-01-01|\n",
      "|  100000010|  Dominic|     Parr|  Male| 42|         England|     White Collar| 12.Jan.15| 10912.45|2021-01-01|\n",
      "|  100000011|  Dominic|    Lewis|  Male| 40|         England|     White Collar| 12.Jan.15| 39667.83|2021-01-01|\n",
      "|  100000012| Benjamin|    Grant|  Male| 39|         England|     White Collar| 12.Jan.15| 32281.62|2021-01-01|\n",
      "|  100000013|     Ryan|MacDonald|  Male| 24|         England|     White Collar| 12.Jan.15| 40781.63|2021-01-01|\n",
      "|  200000014|   Thomas| Lawrence|  Male| 46|        Scotland|            Other| 12.Jan.15| 48791.46|2021-01-01|\n",
      "|  300000015|Madeleine| Marshall|Female| 36|           Wales|            Other| 12.Jan.15|  2846.03|2021-01-01|\n",
      "|  100000016| Nicholas|   Newman|  Male| 42|         England|     White Collar| 14.Jan.15|  2116.85|2021-01-01|\n",
      "|  200000017|    Grace|     Hill|Female| 31|        Scotland|            Other| 14.Jan.15| 10356.31|2021-01-01|\n",
      "|  200000018| Samantha|  Coleman|Female| 42|        Scotland|            Other| 14.Jan.15|  3801.69|2021-01-01|\n",
      "|  100000019|  William|     Ince|  Male| 40|         England|      Blue Collar| 15.Jan.15| 65534.69|2021-01-01|\n",
      "|  100000020|   Audrey|    Jones|Female| 46|         England|      Blue Collar| 15.Jan.15| 11462.64|2021-01-01|\n",
      "+-----------+---------+---------+------+---+----------------+-----------------+----------+---------+----------+\n",
      "only showing top 20 rows\n",
      "\n"
     ]
    }
   ],
   "source": [
    "df.show()"
   ]
  },
  {
   "cell_type": "code",
   "execution_count": 42,
   "metadata": {},
   "outputs": [
    {
     "data": {
      "text/plain": [
       "['Customer ID',\n",
       " 'Name',\n",
       " 'Surname',\n",
       " 'Gender',\n",
       " 'Age',\n",
       " 'Region',\n",
       " 'JobClassification',\n",
       " 'DateJoined',\n",
       " 'Balance',\n",
       " 'Date']"
      ]
     },
     "execution_count": 42,
     "metadata": {},
     "output_type": "execute_result"
    }
   ],
   "source": [
    "df.columns"
   ]
  },
  {
   "cell_type": "code",
   "execution_count": 43,
   "metadata": {},
   "outputs": [
    {
     "data": {
      "text/plain": [
       "4014"
      ]
     },
     "execution_count": 43,
     "metadata": {},
     "output_type": "execute_result"
    }
   ],
   "source": [
    "df.count()"
   ]
  },
  {
   "cell_type": "code",
   "execution_count": 44,
   "metadata": {},
   "outputs": [
    {
     "name": "stdout",
     "output_type": "stream",
     "text": [
      "+-------+------------------+\n",
      "|summary|               Age|\n",
      "+-------+------------------+\n",
      "|  count|              4014|\n",
      "|   mean|38.611111111111114|\n",
      "| stddev| 9.819120984901543|\n",
      "|    min|                15|\n",
      "|    max|                64|\n",
      "+-------+------------------+\n",
      "\n"
     ]
    }
   ],
   "source": [
    "df.describe('Age').show()"
   ]
  },
  {
   "cell_type": "code",
   "execution_count": 45,
   "metadata": {},
   "outputs": [
    {
     "name": "stdout",
     "output_type": "stream",
     "text": [
      "+---------+---+---------+\n",
      "|     Name|Age|  Balance|\n",
      "+---------+---+---------+\n",
      "|    Simon| 21|113810.15|\n",
      "|  Jasmine| 34| 36919.73|\n",
      "|     Liam| 46|101536.83|\n",
      "|   Trevor| 32|  1421.52|\n",
      "|  Deirdre| 38| 35639.79|\n",
      "|      Ava| 30|122443.77|\n",
      "|  Dorothy| 34| 42879.84|\n",
      "|     Lisa| 48| 36680.17|\n",
      "|     Ruth| 33| 74284.35|\n",
      "|  Dominic| 42| 10912.45|\n",
      "|  Dominic| 40| 39667.83|\n",
      "| Benjamin| 39| 32281.62|\n",
      "|     Ryan| 24| 40781.63|\n",
      "|   Thomas| 46| 48791.46|\n",
      "|Madeleine| 36|  2846.03|\n",
      "| Nicholas| 42|  2116.85|\n",
      "|    Grace| 31| 10356.31|\n",
      "| Samantha| 42|  3801.69|\n",
      "|  William| 40| 65534.69|\n",
      "|   Audrey| 46| 11462.64|\n",
      "+---------+---+---------+\n",
      "only showing top 20 rows\n",
      "\n"
     ]
    }
   ],
   "source": [
    "df.select('Name','Age','Balance').show()"
   ]
  },
  {
   "cell_type": "code",
   "execution_count": 46,
   "metadata": {},
   "outputs": [
    {
     "name": "stdout",
     "output_type": "stream",
     "text": [
      "+----------------+\n",
      "|          Region|\n",
      "+----------------+\n",
      "|           Wales|\n",
      "|         England|\n",
      "|        Scotland|\n",
      "|Northern Ireland|\n",
      "+----------------+\n",
      "\n"
     ]
    }
   ],
   "source": [
    "df.select('Region').distinct().show()"
   ]
  },
  {
   "cell_type": "code",
   "execution_count": 47,
   "metadata": {},
   "outputs": [
    {
     "name": "stdout",
     "output_type": "stream",
     "text": [
      "+-----------------+\n",
      "|JobClassification|\n",
      "+-----------------+\n",
      "|      Blue Collar|\n",
      "|            Other|\n",
      "|     White Collar|\n",
      "+-----------------+\n",
      "\n"
     ]
    }
   ],
   "source": [
    "df.select('JobClassification').distinct().show()"
   ]
  },
  {
   "cell_type": "code",
   "execution_count": 48,
   "metadata": {},
   "outputs": [
    {
     "name": "stdout",
     "output_type": "stream",
     "text": [
      "+----------------+-----------------+\n",
      "|          Region|JobClassification|\n",
      "+----------------+-----------------+\n",
      "|         England|      Blue Collar|\n",
      "|        Scotland|      Blue Collar|\n",
      "|         England|     White Collar|\n",
      "|        Scotland|            Other|\n",
      "|           Wales|      Blue Collar|\n",
      "|         England|            Other|\n",
      "|Northern Ireland|            Other|\n",
      "|Northern Ireland|     White Collar|\n",
      "|           Wales|            Other|\n",
      "|Northern Ireland|      Blue Collar|\n",
      "|           Wales|     White Collar|\n",
      "|        Scotland|     White Collar|\n",
      "+----------------+-----------------+\n",
      "\n"
     ]
    }
   ],
   "source": [
    "df.select('Region','JobClassification').distinct().show()"
   ]
  },
  {
   "cell_type": "code",
   "execution_count": 49,
   "metadata": {},
   "outputs": [
    {
     "name": "stdout",
     "output_type": "stream",
     "text": [
      "+-----------+--------+---------+------+---+-------+-----------------+----------+---------+----------+\n",
      "|Customer ID|    Name|  Surname|Gender|Age| Region|JobClassification|DateJoined|  Balance|      Date|\n",
      "+-----------+--------+---------+------+---+-------+-----------------+----------+---------+----------+\n",
      "|  100000001|   Simon|    Walsh|  Male| 21|England|     White Collar| 05.Jan.15|113810.15|2021-01-01|\n",
      "|  100000003|    Liam|    Brown|  Male| 46|England|     White Collar| 07.Jan.15|101536.83|2021-01-01|\n",
      "|  100000005| Deirdre|  Pullman|Female| 38|England|      Blue Collar| 09.Jan.15| 35639.79|2021-01-01|\n",
      "|  100000007| Dorothy|  Thomson|Female| 34|England|      Blue Collar| 11.Jan.15| 42879.84|2021-01-01|\n",
      "|  100000010| Dominic|     Parr|  Male| 42|England|     White Collar| 12.Jan.15| 10912.45|2021-01-01|\n",
      "|  100000011| Dominic|    Lewis|  Male| 40|England|     White Collar| 12.Jan.15| 39667.83|2021-01-01|\n",
      "|  100000012|Benjamin|    Grant|  Male| 39|England|     White Collar| 12.Jan.15| 32281.62|2021-01-01|\n",
      "|  100000013|    Ryan|MacDonald|  Male| 24|England|     White Collar| 12.Jan.15| 40781.63|2021-01-01|\n",
      "|  100000016|Nicholas|   Newman|  Male| 42|England|     White Collar| 14.Jan.15|  2116.85|2021-01-01|\n",
      "|  100000019| William|     Ince|  Male| 40|England|      Blue Collar| 15.Jan.15| 65534.69|2021-01-01|\n",
      "|  100000020|  Audrey|    Jones|Female| 46|England|      Blue Collar| 15.Jan.15| 11462.64|2021-01-01|\n",
      "|  100000025|Jennifer|   Hughes|Female| 38|England|     White Collar| 20.Jan.15| 20505.32|2021-01-01|\n",
      "|  100000028|  Alison|   Fisher|Female| 33|England|     White Collar| 25.Jan.15|  3428.56|2021-01-01|\n",
      "|  100000030|    Luke|  Wilkins|  Male| 42|England|     White Collar| 27.Jan.15| 10813.83|2021-01-01|\n",
      "|  100000031|   Megan|     Bell|Female| 25|England|     White Collar| 28.Jan.15| 38889.76|2021-01-01|\n",
      "|  100000034|    Jake|   Wilson|  Male| 26|England|            Other| 30.Jan.15|  5833.62|2021-01-01|\n",
      "|  100000035|   Karen|     Dyer|Female| 34|England|      Blue Collar| 31.Jan.15| 77809.59|2021-01-01|\n",
      "|  100000036|  Yvonne|  Thomson|Female| 36|England|     White Collar| 31.Jan.15| 31680.67|2021-01-01|\n",
      "|  100000037|  Sophie|     Gill|Female| 33|England|     White Collar| 31.Jan.15| 20504.37|2021-01-01|\n",
      "|  100000038|  Robert|  Cornish|  Male| 31|England|            Other| 31.Jan.15|  5688.36|2021-01-01|\n",
      "+-----------+--------+---------+------+---+-------+-----------------+----------+---------+----------+\n",
      "only showing top 20 rows\n",
      "\n"
     ]
    }
   ],
   "source": [
    "df.filter(df.Region =='England').show()"
   ]
  },
  {
   "cell_type": "code",
   "execution_count": 50,
   "metadata": {},
   "outputs": [
    {
     "data": {
      "text/plain": [
       "2159"
      ]
     },
     "execution_count": 50,
     "metadata": {},
     "output_type": "execute_result"
    }
   ],
   "source": [
    "df.filter(df.Region =='England').count()"
   ]
  },
  {
   "cell_type": "code",
   "execution_count": 186,
   "metadata": {},
   "outputs": [
    {
     "name": "stdout",
     "output_type": "stream",
     "text": [
      "+----------+---------+---------+------+---+----------------+-----------------+----------+-------+----------+\n",
      "|CustomerID|     Name|  Surname|Gender|Age|          Region|JobClassification|DateJoined|Balance|      Date|\n",
      "+----------+---------+---------+------+---+----------------+-----------------+----------+-------+----------+\n",
      "| 100001320|     Jane|     King|Female| 38|         England|     White Collar| 22.Jul.15|  11.52|2021-01-01|\n",
      "| 400000075|   Olivia|     Dowd|Female| 30|Northern Ireland|     White Collar| 12.Feb.15|  21.03|2021-01-01|\n",
      "| 200000775|   Warren|  Roberts|  Male| 37|        Scotland|      Blue Collar| 01.Jun.15|  69.01|2021-01-01|\n",
      "| 400002046|    Megan|     Hart|Female| 19|Northern Ireland|      Blue Collar| 13.Sep.15|  69.78|2021-01-01|\n",
      "| 300003468|  Stewart| Johnston|  Male| 41|           Wales|      Blue Collar| 30.Nov.15|  77.46|2021-01-01|\n",
      "| 300003497|  Rebecca|   Howard|Female| 30|           Wales|      Blue Collar| 02.Dec.15|  96.26|2021-01-01|\n",
      "| 100003885|  Abigail|    Mills|Female| 29|         England|     White Collar| 23.Dec.15|  98.68|2021-01-01|\n",
      "| 100001419|  Lillian|   Mathis|Female| 43|         England|     White Collar| 28.Jul.15| 114.69|2021-01-01|\n",
      "| 400002278|    Pippa|     Ball|Female| 33|Northern Ireland|            Other| 24.Sep.15| 133.75|2021-01-01|\n",
      "| 100002735|    Chloe|     Gill|Female| 27|         England|      Blue Collar| 22.Oct.15| 134.94|2021-01-01|\n",
      "| 100000297|   Sophie|  Thomson|Female| 33|         England|     White Collar| 23.Apr.15| 152.91|2021-01-01|\n",
      "| 100003882|   Lauren|   Slater|Female| 35|         England|      Blue Collar| 23.Dec.15| 168.18|2021-01-01|\n",
      "| 200003843|    Colin|Mackenzie|  Male| 39|        Scotland|      Blue Collar| 20.Dec.15| 177.28|2021-01-01|\n",
      "| 200004013|Christian|     Reid|  Male| 51|        Scotland|      Blue Collar| 30.Dec.15| 239.45|2021-01-01|\n",
      "| 200001282|     Matt|   Watson|  Male| 44|        Scotland|     White Collar| 20.Jul.15| 242.49|2021-01-01|\n",
      "| 100000080|    David|   Peters|  Male| 34|         England|     White Collar| 16.Mar.15| 245.46|2021-01-01|\n",
      "| 100003558|      Sam|    Poole|  Male| 34|         England|     White Collar| 05.Dec.15| 251.67|2021-01-01|\n",
      "| 100002750|     Carl|   Fisher|  Male| 38|         England|     White Collar| 23.Oct.15| 267.38|2021-01-01|\n",
      "| 100003397|    Bella|  Ellison|Female| 30|         England|     White Collar| 27.Nov.15| 279.01|2021-01-01|\n",
      "| 100000378|    Harry|  Manning|  Male| 18|         England|     White Collar| 06.May.15| 311.26|2021-01-01|\n",
      "+----------+---------+---------+------+---+----------------+-----------------+----------+-------+----------+\n",
      "only showing top 20 rows\n",
      "\n"
     ]
    }
   ],
   "source": [
    "df.orderBy(df.Balance).show()"
   ]
  },
  {
   "cell_type": "code",
   "execution_count": 184,
   "metadata": {},
   "outputs": [],
   "source": [
    "df2=df.sample(False,0.8)"
   ]
  },
  {
   "cell_type": "code",
   "execution_count": 185,
   "metadata": {},
   "outputs": [
    {
     "data": {
      "text/plain": [
       "3224"
      ]
     },
     "execution_count": 185,
     "metadata": {},
     "output_type": "execute_result"
    }
   ],
   "source": [
    "df2.count()"
   ]
  },
  {
   "cell_type": "code",
   "execution_count": 223,
   "metadata": {},
   "outputs": [],
   "source": [
    "#help(df)"
   ]
  },
  {
   "cell_type": "code",
   "execution_count": 54,
   "metadata": {},
   "outputs": [
    {
     "name": "stdout",
     "output_type": "stream",
     "text": [
      "+-----------+---------+---------+------+---+----------------+-----------------+----------+---------+----------+\n",
      "|Customer ID|     Name|  Surname|Gender|Age|          Region|JobClassification|DateJoined|  Balance|      Date|\n",
      "+-----------+---------+---------+------+---+----------------+-----------------+----------+---------+----------+\n",
      "|  100000001|    Simon|    Walsh|  Male| 21|         England|     White Collar| 05.Jan.15|113810.15|2021-01-01|\n",
      "|  400000002|  Jasmine|   Miller|Female| 34|Northern Ireland|      Blue Collar| 06.Jan.15| 36919.73|2021-01-01|\n",
      "|  100000003|     Liam|    Brown|  Male| 46|         England|     White Collar| 07.Jan.15|101536.83|2021-01-01|\n",
      "|  300000004|   Trevor|     Parr|  Male| 32|           Wales|     White Collar| 08.Jan.15|  1421.52|2021-01-01|\n",
      "|  100000005|  Deirdre|  Pullman|Female| 38|         England|      Blue Collar| 09.Jan.15| 35639.79|2021-01-01|\n",
      "|  300000006|      Ava|  Coleman|Female| 30|           Wales|      Blue Collar| 09.Jan.15|122443.77|2021-01-01|\n",
      "|  100000007|  Dorothy|  Thomson|Female| 34|         England|      Blue Collar| 11.Jan.15| 42879.84|2021-01-01|\n",
      "|  200000008|     Lisa|     Knox|Female| 48|        Scotland|            Other| 11.Jan.15| 36680.17|2021-01-01|\n",
      "|  300000009|     Ruth| Campbell|Female| 33|           Wales|     White Collar| 11.Jan.15| 74284.35|2021-01-01|\n",
      "|  100000010|  Dominic|     Parr|  Male| 42|         England|     White Collar| 12.Jan.15| 10912.45|2021-01-01|\n",
      "|  100000011|  Dominic|    Lewis|  Male| 40|         England|     White Collar| 12.Jan.15| 39667.83|2021-01-01|\n",
      "|  100000012| Benjamin|    Grant|  Male| 39|         England|     White Collar| 12.Jan.15| 32281.62|2021-01-01|\n",
      "|  100000013|     Ryan|MacDonald|  Male| 24|         England|     White Collar| 12.Jan.15| 40781.63|2021-01-01|\n",
      "|  200000014|   Thomas| Lawrence|  Male| 46|        Scotland|            Other| 12.Jan.15| 48791.46|2021-01-01|\n",
      "|  300000015|Madeleine| Marshall|Female| 36|           Wales|            Other| 12.Jan.15|  2846.03|2021-01-01|\n",
      "|  100000016| Nicholas|   Newman|  Male| 42|         England|     White Collar| 14.Jan.15|  2116.85|2021-01-01|\n",
      "|  200000017|    Grace|     Hill|Female| 31|        Scotland|            Other| 14.Jan.15| 10356.31|2021-01-01|\n",
      "|  200000018| Samantha|  Coleman|Female| 42|        Scotland|            Other| 14.Jan.15|  3801.69|2021-01-01|\n",
      "|  100000019|  William|     Ince|  Male| 40|         England|      Blue Collar| 15.Jan.15| 65534.69|2021-01-01|\n",
      "|  100000020|   Audrey|    Jones|Female| 46|         England|      Blue Collar| 15.Jan.15| 11462.64|2021-01-01|\n",
      "+-----------+---------+---------+------+---+----------------+-----------------+----------+---------+----------+\n",
      "only showing top 20 rows\n",
      "\n"
     ]
    }
   ],
   "source": [
    "df.select('*').show()"
   ]
  },
  {
   "cell_type": "code",
   "execution_count": 170,
   "metadata": {},
   "outputs": [],
   "source": [
    "from pyspark.sql import functions as f\n",
    "from pyspark.sql.functions import date_format"
   ]
  },
  {
   "cell_type": "code",
   "execution_count": 172,
   "metadata": {},
   "outputs": [
    {
     "ename": "Py4JJavaError",
     "evalue": "An error occurred while calling o458.showString.\n: org.apache.spark.SparkUpgradeException: You may get a different result due to the upgrading of Spark 3.0: Fail to recognize 'YYYYMM' pattern in the DateTimeFormatter. 1) You can set spark.sql.legacy.timeParserPolicy to LEGACY to restore the behavior before Spark 3.0. 2) You can form a valid datetime pattern with the guide from https://spark.apache.org/docs/latest/sql-ref-datetime-pattern.html\r\n\tat org.apache.spark.sql.catalyst.util.DateTimeFormatterHelper$$anonfun$checkLegacyFormatter$1.applyOrElse(DateTimeFormatterHelper.scala:196)\r\n\tat org.apache.spark.sql.catalyst.util.DateTimeFormatterHelper$$anonfun$checkLegacyFormatter$1.applyOrElse(DateTimeFormatterHelper.scala:185)\r\n\tat scala.runtime.AbstractPartialFunction.apply(AbstractPartialFunction.scala:38)\r\n\tat org.apache.spark.sql.catalyst.util.Iso8601TimestampFormatter.validatePatternString(TimestampFormatter.scala:109)\r\n\tat org.apache.spark.sql.catalyst.util.TimestampFormatter$.getFormatter(TimestampFormatter.scala:278)\r\n\tat org.apache.spark.sql.catalyst.util.TimestampFormatter$.apply(TimestampFormatter.scala:312)\r\n\tat org.apache.spark.sql.catalyst.expressions.DateFormatClass.$anonfun$formatter$1(datetimeExpressions.scala:646)\r\n\tat scala.Option.map(Option.scala:230)\r\n\tat org.apache.spark.sql.catalyst.expressions.DateFormatClass.formatter$lzycompute(datetimeExpressions.scala:641)\r\n\tat org.apache.spark.sql.catalyst.expressions.DateFormatClass.formatter(datetimeExpressions.scala:639)\r\n\tat org.apache.spark.sql.catalyst.expressions.DateFormatClass.doGenCode(datetimeExpressions.scala:665)\r\n\tat org.apache.spark.sql.catalyst.expressions.Expression.$anonfun$genCode$3(Expression.scala:146)\r\n\tat scala.Option.getOrElse(Option.scala:189)\r\n\tat org.apache.spark.sql.catalyst.expressions.Expression.genCode(Expression.scala:141)\r\n\tat org.apache.spark.sql.catalyst.expressions.Alias.genCode(namedExpressions.scala:159)\r\n\tat org.apache.spark.sql.execution.ProjectExec.$anonfun$doConsume$1(basicPhysicalOperators.scala:66)\r\n\tat scala.collection.TraversableLike.$anonfun$map$1(TraversableLike.scala:238)\r\n\tat scala.collection.mutable.ResizableArray.foreach(ResizableArray.scala:62)\r\n\tat scala.collection.mutable.ResizableArray.foreach$(ResizableArray.scala:55)\r\n\tat scala.collection.mutable.ArrayBuffer.foreach(ArrayBuffer.scala:49)\r\n\tat scala.collection.TraversableLike.map(TraversableLike.scala:238)\r\n\tat scala.collection.TraversableLike.map$(TraversableLike.scala:231)\r\n\tat scala.collection.AbstractTraversable.map(Traversable.scala:108)\r\n\tat org.apache.spark.sql.execution.ProjectExec.doConsume(basicPhysicalOperators.scala:66)\r\n\tat org.apache.spark.sql.execution.CodegenSupport.consume(WholeStageCodegenExec.scala:194)\r\n\tat org.apache.spark.sql.execution.CodegenSupport.consume$(WholeStageCodegenExec.scala:149)\r\n\tat org.apache.spark.sql.execution.InputAdapter.consume(WholeStageCodegenExec.scala:496)\r\n\tat org.apache.spark.sql.execution.InputRDDCodegen.doProduce(WholeStageCodegenExec.scala:483)\r\n\tat org.apache.spark.sql.execution.InputRDDCodegen.doProduce$(WholeStageCodegenExec.scala:456)\r\n\tat org.apache.spark.sql.execution.InputAdapter.doProduce(WholeStageCodegenExec.scala:496)\r\n\tat org.apache.spark.sql.execution.CodegenSupport.$anonfun$produce$1(WholeStageCodegenExec.scala:95)\r\n\tat org.apache.spark.sql.execution.SparkPlan.$anonfun$executeQuery$1(SparkPlan.scala:213)\r\n\tat org.apache.spark.rdd.RDDOperationScope$.withScope(RDDOperationScope.scala:151)\r\n\tat org.apache.spark.sql.execution.SparkPlan.executeQuery(SparkPlan.scala:210)\r\n\tat org.apache.spark.sql.execution.CodegenSupport.produce(WholeStageCodegenExec.scala:90)\r\n\tat org.apache.spark.sql.execution.CodegenSupport.produce$(WholeStageCodegenExec.scala:90)\r\n\tat org.apache.spark.sql.execution.InputAdapter.produce(WholeStageCodegenExec.scala:496)\r\n\tat org.apache.spark.sql.execution.ProjectExec.doProduce(basicPhysicalOperators.scala:51)\r\n\tat org.apache.spark.sql.execution.CodegenSupport.$anonfun$produce$1(WholeStageCodegenExec.scala:95)\r\n\tat org.apache.spark.sql.execution.SparkPlan.$anonfun$executeQuery$1(SparkPlan.scala:213)\r\n\tat org.apache.spark.rdd.RDDOperationScope$.withScope(RDDOperationScope.scala:151)\r\n\tat org.apache.spark.sql.execution.SparkPlan.executeQuery(SparkPlan.scala:210)\r\n\tat org.apache.spark.sql.execution.CodegenSupport.produce(WholeStageCodegenExec.scala:90)\r\n\tat org.apache.spark.sql.execution.CodegenSupport.produce$(WholeStageCodegenExec.scala:90)\r\n\tat org.apache.spark.sql.execution.ProjectExec.produce(basicPhysicalOperators.scala:41)\r\n\tat org.apache.spark.sql.execution.WholeStageCodegenExec.doCodeGen(WholeStageCodegenExec.scala:632)\r\n\tat org.apache.spark.sql.execution.WholeStageCodegenExec.doExecute(WholeStageCodegenExec.scala:692)\r\n\tat org.apache.spark.sql.execution.SparkPlan.$anonfun$execute$1(SparkPlan.scala:175)\r\n\tat org.apache.spark.sql.execution.SparkPlan.$anonfun$executeQuery$1(SparkPlan.scala:213)\r\n\tat org.apache.spark.rdd.RDDOperationScope$.withScope(RDDOperationScope.scala:151)\r\n\tat org.apache.spark.sql.execution.SparkPlan.executeQuery(SparkPlan.scala:210)\r\n\tat org.apache.spark.sql.execution.SparkPlan.execute(SparkPlan.scala:171)\r\n\tat org.apache.spark.sql.execution.SparkPlan.getByteArrayRdd(SparkPlan.scala:316)\r\n\tat org.apache.spark.sql.execution.SparkPlan.executeTake(SparkPlan.scala:434)\r\n\tat org.apache.spark.sql.execution.SparkPlan.executeTake(SparkPlan.scala:420)\r\n\tat org.apache.spark.sql.execution.CollectLimitExec.executeCollect(limit.scala:47)\r\n\tat org.apache.spark.sql.Dataset.collectFromPlan(Dataset.scala:3627)\r\n\tat org.apache.spark.sql.Dataset.$anonfun$head$1(Dataset.scala:2697)\r\n\tat org.apache.spark.sql.Dataset.$anonfun$withAction$1(Dataset.scala:3618)\r\n\tat org.apache.spark.sql.execution.SQLExecution$.$anonfun$withNewExecutionId$5(SQLExecution.scala:100)\r\n\tat org.apache.spark.sql.execution.SQLExecution$.withSQLConfPropagated(SQLExecution.scala:160)\r\n\tat org.apache.spark.sql.execution.SQLExecution$.$anonfun$withNewExecutionId$1(SQLExecution.scala:87)\r\n\tat org.apache.spark.sql.SparkSession.withActive(SparkSession.scala:764)\r\n\tat org.apache.spark.sql.execution.SQLExecution$.withNewExecutionId(SQLExecution.scala:64)\r\n\tat org.apache.spark.sql.Dataset.withAction(Dataset.scala:3616)\r\n\tat org.apache.spark.sql.Dataset.head(Dataset.scala:2697)\r\n\tat org.apache.spark.sql.Dataset.take(Dataset.scala:2904)\r\n\tat org.apache.spark.sql.Dataset.getRows(Dataset.scala:300)\r\n\tat org.apache.spark.sql.Dataset.showString(Dataset.scala:337)\r\n\tat sun.reflect.GeneratedMethodAccessor80.invoke(Unknown Source)\r\n\tat sun.reflect.DelegatingMethodAccessorImpl.invoke(Unknown Source)\r\n\tat java.lang.reflect.Method.invoke(Unknown Source)\r\n\tat py4j.reflection.MethodInvoker.invoke(MethodInvoker.java:244)\r\n\tat py4j.reflection.ReflectionEngine.invoke(ReflectionEngine.java:357)\r\n\tat py4j.Gateway.invoke(Gateway.java:282)\r\n\tat py4j.commands.AbstractCommand.invokeMethod(AbstractCommand.java:132)\r\n\tat py4j.commands.CallCommand.execute(CallCommand.java:79)\r\n\tat py4j.GatewayConnection.run(GatewayConnection.java:238)\r\n\tat java.lang.Thread.run(Unknown Source)\r\nCaused by: java.lang.IllegalArgumentException: All week-based patterns are unsupported since Spark 3.0, detected: Y, Please use the SQL function EXTRACT instead\r\n\tat org.apache.spark.sql.catalyst.util.DateTimeFormatterHelper$.$anonfun$convertIncompatiblePattern$4(DateTimeFormatterHelper.scala:323)\r\n\tat org.apache.spark.sql.catalyst.util.DateTimeFormatterHelper$.$anonfun$convertIncompatiblePattern$4$adapted(DateTimeFormatterHelper.scala:321)\r\n\tat scala.collection.TraversableLike$WithFilter.$anonfun$foreach$1(TraversableLike.scala:877)\r\n\tat scala.collection.IndexedSeqOptimized.foreach(IndexedSeqOptimized.scala:36)\r\n\tat scala.collection.IndexedSeqOptimized.foreach$(IndexedSeqOptimized.scala:33)\r\n\tat scala.collection.immutable.StringOps.foreach(StringOps.scala:33)\r\n\tat scala.collection.TraversableLike$WithFilter.foreach(TraversableLike.scala:876)\r\n\tat org.apache.spark.sql.catalyst.util.DateTimeFormatterHelper$.$anonfun$convertIncompatiblePattern$2(DateTimeFormatterHelper.scala:321)\r\n\tat scala.collection.TraversableLike.$anonfun$map$1(TraversableLike.scala:238)\r\n\tat scala.collection.IndexedSeqOptimized.foreach(IndexedSeqOptimized.scala:36)\r\n\tat scala.collection.IndexedSeqOptimized.foreach$(IndexedSeqOptimized.scala:33)\r\n\tat scala.collection.mutable.ArrayOps$ofRef.foreach(ArrayOps.scala:198)\r\n\tat scala.collection.TraversableLike.map(TraversableLike.scala:238)\r\n\tat scala.collection.TraversableLike.map$(TraversableLike.scala:231)\r\n\tat scala.collection.mutable.ArrayOps$ofRef.map(ArrayOps.scala:198)\r\n\tat org.apache.spark.sql.catalyst.util.DateTimeFormatterHelper$.convertIncompatiblePattern(DateTimeFormatterHelper.scala:318)\r\n\tat org.apache.spark.sql.catalyst.util.DateTimeFormatterHelper.getOrCreateFormatter(DateTimeFormatterHelper.scala:121)\r\n\tat org.apache.spark.sql.catalyst.util.DateTimeFormatterHelper.getOrCreateFormatter$(DateTimeFormatterHelper.scala:117)\r\n\tat org.apache.spark.sql.catalyst.util.Iso8601TimestampFormatter.getOrCreateFormatter(TimestampFormatter.scala:59)\r\n\tat org.apache.spark.sql.catalyst.util.Iso8601TimestampFormatter.formatter$lzycompute(TimestampFormatter.scala:68)\r\n\tat org.apache.spark.sql.catalyst.util.Iso8601TimestampFormatter.formatter(TimestampFormatter.scala:67)\r\n\tat org.apache.spark.sql.catalyst.util.Iso8601TimestampFormatter.validatePatternString(TimestampFormatter.scala:108)\r\n\t... 75 more\r\n",
     "output_type": "error",
     "traceback": [
      "\u001b[1;31m---------------------------------------------------------------------------\u001b[0m",
      "\u001b[1;31mPy4JJavaError\u001b[0m                             Traceback (most recent call last)",
      "\u001b[1;32m<ipython-input-172-ff0c39629c4a>\u001b[0m in \u001b[0;36m<module>\u001b[1;34m\u001b[0m\n\u001b[1;32m----> 1\u001b[1;33m \u001b[0mdf\u001b[0m\u001b[1;33m.\u001b[0m\u001b[0mselect\u001b[0m\u001b[1;33m(\u001b[0m\u001b[0mdate_format\u001b[0m\u001b[1;33m(\u001b[0m\u001b[0mdf\u001b[0m\u001b[1;33m.\u001b[0m\u001b[0mDate\u001b[0m\u001b[1;33m,\u001b[0m\u001b[1;34m\"YYYYMM\"\u001b[0m\u001b[1;33m)\u001b[0m\u001b[1;33m)\u001b[0m\u001b[1;33m.\u001b[0m\u001b[0mshow\u001b[0m\u001b[1;33m(\u001b[0m\u001b[1;33m)\u001b[0m\u001b[1;33m\u001b[0m\u001b[1;33m\u001b[0m\u001b[0m\n\u001b[0m",
      "\u001b[1;32mC:\\Spark\\spark-3.0.1-bin-hadoop2.7\\python\\pyspark\\sql\\dataframe.py\u001b[0m in \u001b[0;36mshow\u001b[1;34m(self, n, truncate, vertical)\u001b[0m\n\u001b[0;32m    438\u001b[0m         \"\"\"\n\u001b[0;32m    439\u001b[0m         \u001b[1;32mif\u001b[0m \u001b[0misinstance\u001b[0m\u001b[1;33m(\u001b[0m\u001b[0mtruncate\u001b[0m\u001b[1;33m,\u001b[0m \u001b[0mbool\u001b[0m\u001b[1;33m)\u001b[0m \u001b[1;32mand\u001b[0m \u001b[0mtruncate\u001b[0m\u001b[1;33m:\u001b[0m\u001b[1;33m\u001b[0m\u001b[1;33m\u001b[0m\u001b[0m\n\u001b[1;32m--> 440\u001b[1;33m             \u001b[0mprint\u001b[0m\u001b[1;33m(\u001b[0m\u001b[0mself\u001b[0m\u001b[1;33m.\u001b[0m\u001b[0m_jdf\u001b[0m\u001b[1;33m.\u001b[0m\u001b[0mshowString\u001b[0m\u001b[1;33m(\u001b[0m\u001b[0mn\u001b[0m\u001b[1;33m,\u001b[0m \u001b[1;36m20\u001b[0m\u001b[1;33m,\u001b[0m \u001b[0mvertical\u001b[0m\u001b[1;33m)\u001b[0m\u001b[1;33m)\u001b[0m\u001b[1;33m\u001b[0m\u001b[1;33m\u001b[0m\u001b[0m\n\u001b[0m\u001b[0;32m    441\u001b[0m         \u001b[1;32melse\u001b[0m\u001b[1;33m:\u001b[0m\u001b[1;33m\u001b[0m\u001b[1;33m\u001b[0m\u001b[0m\n\u001b[0;32m    442\u001b[0m             \u001b[0mprint\u001b[0m\u001b[1;33m(\u001b[0m\u001b[0mself\u001b[0m\u001b[1;33m.\u001b[0m\u001b[0m_jdf\u001b[0m\u001b[1;33m.\u001b[0m\u001b[0mshowString\u001b[0m\u001b[1;33m(\u001b[0m\u001b[0mn\u001b[0m\u001b[1;33m,\u001b[0m \u001b[0mint\u001b[0m\u001b[1;33m(\u001b[0m\u001b[0mtruncate\u001b[0m\u001b[1;33m)\u001b[0m\u001b[1;33m,\u001b[0m \u001b[0mvertical\u001b[0m\u001b[1;33m)\u001b[0m\u001b[1;33m)\u001b[0m\u001b[1;33m\u001b[0m\u001b[1;33m\u001b[0m\u001b[0m\n",
      "\u001b[1;32mC:\\Spark\\spark-3.0.1-bin-hadoop2.7\\python\\lib\\py4j-0.10.9-src.zip\\py4j\\java_gateway.py\u001b[0m in \u001b[0;36m__call__\u001b[1;34m(self, *args)\u001b[0m\n\u001b[0;32m   1303\u001b[0m         \u001b[0manswer\u001b[0m \u001b[1;33m=\u001b[0m \u001b[0mself\u001b[0m\u001b[1;33m.\u001b[0m\u001b[0mgateway_client\u001b[0m\u001b[1;33m.\u001b[0m\u001b[0msend_command\u001b[0m\u001b[1;33m(\u001b[0m\u001b[0mcommand\u001b[0m\u001b[1;33m)\u001b[0m\u001b[1;33m\u001b[0m\u001b[1;33m\u001b[0m\u001b[0m\n\u001b[0;32m   1304\u001b[0m         return_value = get_return_value(\n\u001b[1;32m-> 1305\u001b[1;33m             answer, self.gateway_client, self.target_id, self.name)\n\u001b[0m\u001b[0;32m   1306\u001b[0m \u001b[1;33m\u001b[0m\u001b[0m\n\u001b[0;32m   1307\u001b[0m         \u001b[1;32mfor\u001b[0m \u001b[0mtemp_arg\u001b[0m \u001b[1;32min\u001b[0m \u001b[0mtemp_args\u001b[0m\u001b[1;33m:\u001b[0m\u001b[1;33m\u001b[0m\u001b[1;33m\u001b[0m\u001b[0m\n",
      "\u001b[1;32mC:\\Spark\\spark-3.0.1-bin-hadoop2.7\\python\\pyspark\\sql\\utils.py\u001b[0m in \u001b[0;36mdeco\u001b[1;34m(*a, **kw)\u001b[0m\n\u001b[0;32m    126\u001b[0m     \u001b[1;32mdef\u001b[0m \u001b[0mdeco\u001b[0m\u001b[1;33m(\u001b[0m\u001b[1;33m*\u001b[0m\u001b[0ma\u001b[0m\u001b[1;33m,\u001b[0m \u001b[1;33m**\u001b[0m\u001b[0mkw\u001b[0m\u001b[1;33m)\u001b[0m\u001b[1;33m:\u001b[0m\u001b[1;33m\u001b[0m\u001b[1;33m\u001b[0m\u001b[0m\n\u001b[0;32m    127\u001b[0m         \u001b[1;32mtry\u001b[0m\u001b[1;33m:\u001b[0m\u001b[1;33m\u001b[0m\u001b[1;33m\u001b[0m\u001b[0m\n\u001b[1;32m--> 128\u001b[1;33m             \u001b[1;32mreturn\u001b[0m \u001b[0mf\u001b[0m\u001b[1;33m(\u001b[0m\u001b[1;33m*\u001b[0m\u001b[0ma\u001b[0m\u001b[1;33m,\u001b[0m \u001b[1;33m**\u001b[0m\u001b[0mkw\u001b[0m\u001b[1;33m)\u001b[0m\u001b[1;33m\u001b[0m\u001b[1;33m\u001b[0m\u001b[0m\n\u001b[0m\u001b[0;32m    129\u001b[0m         \u001b[1;32mexcept\u001b[0m \u001b[0mpy4j\u001b[0m\u001b[1;33m.\u001b[0m\u001b[0mprotocol\u001b[0m\u001b[1;33m.\u001b[0m\u001b[0mPy4JJavaError\u001b[0m \u001b[1;32mas\u001b[0m \u001b[0me\u001b[0m\u001b[1;33m:\u001b[0m\u001b[1;33m\u001b[0m\u001b[1;33m\u001b[0m\u001b[0m\n\u001b[0;32m    130\u001b[0m             \u001b[0mconverted\u001b[0m \u001b[1;33m=\u001b[0m \u001b[0mconvert_exception\u001b[0m\u001b[1;33m(\u001b[0m\u001b[0me\u001b[0m\u001b[1;33m.\u001b[0m\u001b[0mjava_exception\u001b[0m\u001b[1;33m)\u001b[0m\u001b[1;33m\u001b[0m\u001b[1;33m\u001b[0m\u001b[0m\n",
      "\u001b[1;32mC:\\Spark\\spark-3.0.1-bin-hadoop2.7\\python\\lib\\py4j-0.10.9-src.zip\\py4j\\protocol.py\u001b[0m in \u001b[0;36mget_return_value\u001b[1;34m(answer, gateway_client, target_id, name)\u001b[0m\n\u001b[0;32m    326\u001b[0m                 raise Py4JJavaError(\n\u001b[0;32m    327\u001b[0m                     \u001b[1;34m\"An error occurred while calling {0}{1}{2}.\\n\"\u001b[0m\u001b[1;33m.\u001b[0m\u001b[1;33m\u001b[0m\u001b[1;33m\u001b[0m\u001b[0m\n\u001b[1;32m--> 328\u001b[1;33m                     format(target_id, \".\", name), value)\n\u001b[0m\u001b[0;32m    329\u001b[0m             \u001b[1;32melse\u001b[0m\u001b[1;33m:\u001b[0m\u001b[1;33m\u001b[0m\u001b[1;33m\u001b[0m\u001b[0m\n\u001b[0;32m    330\u001b[0m                 raise Py4JError(\n",
      "\u001b[1;31mPy4JJavaError\u001b[0m: An error occurred while calling o458.showString.\n: org.apache.spark.SparkUpgradeException: You may get a different result due to the upgrading of Spark 3.0: Fail to recognize 'YYYYMM' pattern in the DateTimeFormatter. 1) You can set spark.sql.legacy.timeParserPolicy to LEGACY to restore the behavior before Spark 3.0. 2) You can form a valid datetime pattern with the guide from https://spark.apache.org/docs/latest/sql-ref-datetime-pattern.html\r\n\tat org.apache.spark.sql.catalyst.util.DateTimeFormatterHelper$$anonfun$checkLegacyFormatter$1.applyOrElse(DateTimeFormatterHelper.scala:196)\r\n\tat org.apache.spark.sql.catalyst.util.DateTimeFormatterHelper$$anonfun$checkLegacyFormatter$1.applyOrElse(DateTimeFormatterHelper.scala:185)\r\n\tat scala.runtime.AbstractPartialFunction.apply(AbstractPartialFunction.scala:38)\r\n\tat org.apache.spark.sql.catalyst.util.Iso8601TimestampFormatter.validatePatternString(TimestampFormatter.scala:109)\r\n\tat org.apache.spark.sql.catalyst.util.TimestampFormatter$.getFormatter(TimestampFormatter.scala:278)\r\n\tat org.apache.spark.sql.catalyst.util.TimestampFormatter$.apply(TimestampFormatter.scala:312)\r\n\tat org.apache.spark.sql.catalyst.expressions.DateFormatClass.$anonfun$formatter$1(datetimeExpressions.scala:646)\r\n\tat scala.Option.map(Option.scala:230)\r\n\tat org.apache.spark.sql.catalyst.expressions.DateFormatClass.formatter$lzycompute(datetimeExpressions.scala:641)\r\n\tat org.apache.spark.sql.catalyst.expressions.DateFormatClass.formatter(datetimeExpressions.scala:639)\r\n\tat org.apache.spark.sql.catalyst.expressions.DateFormatClass.doGenCode(datetimeExpressions.scala:665)\r\n\tat org.apache.spark.sql.catalyst.expressions.Expression.$anonfun$genCode$3(Expression.scala:146)\r\n\tat scala.Option.getOrElse(Option.scala:189)\r\n\tat org.apache.spark.sql.catalyst.expressions.Expression.genCode(Expression.scala:141)\r\n\tat org.apache.spark.sql.catalyst.expressions.Alias.genCode(namedExpressions.scala:159)\r\n\tat org.apache.spark.sql.execution.ProjectExec.$anonfun$doConsume$1(basicPhysicalOperators.scala:66)\r\n\tat scala.collection.TraversableLike.$anonfun$map$1(TraversableLike.scala:238)\r\n\tat scala.collection.mutable.ResizableArray.foreach(ResizableArray.scala:62)\r\n\tat scala.collection.mutable.ResizableArray.foreach$(ResizableArray.scala:55)\r\n\tat scala.collection.mutable.ArrayBuffer.foreach(ArrayBuffer.scala:49)\r\n\tat scala.collection.TraversableLike.map(TraversableLike.scala:238)\r\n\tat scala.collection.TraversableLike.map$(TraversableLike.scala:231)\r\n\tat scala.collection.AbstractTraversable.map(Traversable.scala:108)\r\n\tat org.apache.spark.sql.execution.ProjectExec.doConsume(basicPhysicalOperators.scala:66)\r\n\tat org.apache.spark.sql.execution.CodegenSupport.consume(WholeStageCodegenExec.scala:194)\r\n\tat org.apache.spark.sql.execution.CodegenSupport.consume$(WholeStageCodegenExec.scala:149)\r\n\tat org.apache.spark.sql.execution.InputAdapter.consume(WholeStageCodegenExec.scala:496)\r\n\tat org.apache.spark.sql.execution.InputRDDCodegen.doProduce(WholeStageCodegenExec.scala:483)\r\n\tat org.apache.spark.sql.execution.InputRDDCodegen.doProduce$(WholeStageCodegenExec.scala:456)\r\n\tat org.apache.spark.sql.execution.InputAdapter.doProduce(WholeStageCodegenExec.scala:496)\r\n\tat org.apache.spark.sql.execution.CodegenSupport.$anonfun$produce$1(WholeStageCodegenExec.scala:95)\r\n\tat org.apache.spark.sql.execution.SparkPlan.$anonfun$executeQuery$1(SparkPlan.scala:213)\r\n\tat org.apache.spark.rdd.RDDOperationScope$.withScope(RDDOperationScope.scala:151)\r\n\tat org.apache.spark.sql.execution.SparkPlan.executeQuery(SparkPlan.scala:210)\r\n\tat org.apache.spark.sql.execution.CodegenSupport.produce(WholeStageCodegenExec.scala:90)\r\n\tat org.apache.spark.sql.execution.CodegenSupport.produce$(WholeStageCodegenExec.scala:90)\r\n\tat org.apache.spark.sql.execution.InputAdapter.produce(WholeStageCodegenExec.scala:496)\r\n\tat org.apache.spark.sql.execution.ProjectExec.doProduce(basicPhysicalOperators.scala:51)\r\n\tat org.apache.spark.sql.execution.CodegenSupport.$anonfun$produce$1(WholeStageCodegenExec.scala:95)\r\n\tat org.apache.spark.sql.execution.SparkPlan.$anonfun$executeQuery$1(SparkPlan.scala:213)\r\n\tat org.apache.spark.rdd.RDDOperationScope$.withScope(RDDOperationScope.scala:151)\r\n\tat org.apache.spark.sql.execution.SparkPlan.executeQuery(SparkPlan.scala:210)\r\n\tat org.apache.spark.sql.execution.CodegenSupport.produce(WholeStageCodegenExec.scala:90)\r\n\tat org.apache.spark.sql.execution.CodegenSupport.produce$(WholeStageCodegenExec.scala:90)\r\n\tat org.apache.spark.sql.execution.ProjectExec.produce(basicPhysicalOperators.scala:41)\r\n\tat org.apache.spark.sql.execution.WholeStageCodegenExec.doCodeGen(WholeStageCodegenExec.scala:632)\r\n\tat org.apache.spark.sql.execution.WholeStageCodegenExec.doExecute(WholeStageCodegenExec.scala:692)\r\n\tat org.apache.spark.sql.execution.SparkPlan.$anonfun$execute$1(SparkPlan.scala:175)\r\n\tat org.apache.spark.sql.execution.SparkPlan.$anonfun$executeQuery$1(SparkPlan.scala:213)\r\n\tat org.apache.spark.rdd.RDDOperationScope$.withScope(RDDOperationScope.scala:151)\r\n\tat org.apache.spark.sql.execution.SparkPlan.executeQuery(SparkPlan.scala:210)\r\n\tat org.apache.spark.sql.execution.SparkPlan.execute(SparkPlan.scala:171)\r\n\tat org.apache.spark.sql.execution.SparkPlan.getByteArrayRdd(SparkPlan.scala:316)\r\n\tat org.apache.spark.sql.execution.SparkPlan.executeTake(SparkPlan.scala:434)\r\n\tat org.apache.spark.sql.execution.SparkPlan.executeTake(SparkPlan.scala:420)\r\n\tat org.apache.spark.sql.execution.CollectLimitExec.executeCollect(limit.scala:47)\r\n\tat org.apache.spark.sql.Dataset.collectFromPlan(Dataset.scala:3627)\r\n\tat org.apache.spark.sql.Dataset.$anonfun$head$1(Dataset.scala:2697)\r\n\tat org.apache.spark.sql.Dataset.$anonfun$withAction$1(Dataset.scala:3618)\r\n\tat org.apache.spark.sql.execution.SQLExecution$.$anonfun$withNewExecutionId$5(SQLExecution.scala:100)\r\n\tat org.apache.spark.sql.execution.SQLExecution$.withSQLConfPropagated(SQLExecution.scala:160)\r\n\tat org.apache.spark.sql.execution.SQLExecution$.$anonfun$withNewExecutionId$1(SQLExecution.scala:87)\r\n\tat org.apache.spark.sql.SparkSession.withActive(SparkSession.scala:764)\r\n\tat org.apache.spark.sql.execution.SQLExecution$.withNewExecutionId(SQLExecution.scala:64)\r\n\tat org.apache.spark.sql.Dataset.withAction(Dataset.scala:3616)\r\n\tat org.apache.spark.sql.Dataset.head(Dataset.scala:2697)\r\n\tat org.apache.spark.sql.Dataset.take(Dataset.scala:2904)\r\n\tat org.apache.spark.sql.Dataset.getRows(Dataset.scala:300)\r\n\tat org.apache.spark.sql.Dataset.showString(Dataset.scala:337)\r\n\tat sun.reflect.GeneratedMethodAccessor80.invoke(Unknown Source)\r\n\tat sun.reflect.DelegatingMethodAccessorImpl.invoke(Unknown Source)\r\n\tat java.lang.reflect.Method.invoke(Unknown Source)\r\n\tat py4j.reflection.MethodInvoker.invoke(MethodInvoker.java:244)\r\n\tat py4j.reflection.ReflectionEngine.invoke(ReflectionEngine.java:357)\r\n\tat py4j.Gateway.invoke(Gateway.java:282)\r\n\tat py4j.commands.AbstractCommand.invokeMethod(AbstractCommand.java:132)\r\n\tat py4j.commands.CallCommand.execute(CallCommand.java:79)\r\n\tat py4j.GatewayConnection.run(GatewayConnection.java:238)\r\n\tat java.lang.Thread.run(Unknown Source)\r\nCaused by: java.lang.IllegalArgumentException: All week-based patterns are unsupported since Spark 3.0, detected: Y, Please use the SQL function EXTRACT instead\r\n\tat org.apache.spark.sql.catalyst.util.DateTimeFormatterHelper$.$anonfun$convertIncompatiblePattern$4(DateTimeFormatterHelper.scala:323)\r\n\tat org.apache.spark.sql.catalyst.util.DateTimeFormatterHelper$.$anonfun$convertIncompatiblePattern$4$adapted(DateTimeFormatterHelper.scala:321)\r\n\tat scala.collection.TraversableLike$WithFilter.$anonfun$foreach$1(TraversableLike.scala:877)\r\n\tat scala.collection.IndexedSeqOptimized.foreach(IndexedSeqOptimized.scala:36)\r\n\tat scala.collection.IndexedSeqOptimized.foreach$(IndexedSeqOptimized.scala:33)\r\n\tat scala.collection.immutable.StringOps.foreach(StringOps.scala:33)\r\n\tat scala.collection.TraversableLike$WithFilter.foreach(TraversableLike.scala:876)\r\n\tat org.apache.spark.sql.catalyst.util.DateTimeFormatterHelper$.$anonfun$convertIncompatiblePattern$2(DateTimeFormatterHelper.scala:321)\r\n\tat scala.collection.TraversableLike.$anonfun$map$1(TraversableLike.scala:238)\r\n\tat scala.collection.IndexedSeqOptimized.foreach(IndexedSeqOptimized.scala:36)\r\n\tat scala.collection.IndexedSeqOptimized.foreach$(IndexedSeqOptimized.scala:33)\r\n\tat scala.collection.mutable.ArrayOps$ofRef.foreach(ArrayOps.scala:198)\r\n\tat scala.collection.TraversableLike.map(TraversableLike.scala:238)\r\n\tat scala.collection.TraversableLike.map$(TraversableLike.scala:231)\r\n\tat scala.collection.mutable.ArrayOps$ofRef.map(ArrayOps.scala:198)\r\n\tat org.apache.spark.sql.catalyst.util.DateTimeFormatterHelper$.convertIncompatiblePattern(DateTimeFormatterHelper.scala:318)\r\n\tat org.apache.spark.sql.catalyst.util.DateTimeFormatterHelper.getOrCreateFormatter(DateTimeFormatterHelper.scala:121)\r\n\tat org.apache.spark.sql.catalyst.util.DateTimeFormatterHelper.getOrCreateFormatter$(DateTimeFormatterHelper.scala:117)\r\n\tat org.apache.spark.sql.catalyst.util.Iso8601TimestampFormatter.getOrCreateFormatter(TimestampFormatter.scala:59)\r\n\tat org.apache.spark.sql.catalyst.util.Iso8601TimestampFormatter.formatter$lzycompute(TimestampFormatter.scala:68)\r\n\tat org.apache.spark.sql.catalyst.util.Iso8601TimestampFormatter.formatter(TimestampFormatter.scala:67)\r\n\tat org.apache.spark.sql.catalyst.util.Iso8601TimestampFormatter.validatePatternString(TimestampFormatter.scala:108)\r\n\t... 75 more\r\n"
     ]
    }
   ],
   "source": [
    "df.select(date_format(df.Date,\"YYYYMM\")).show()"
   ]
  },
  {
   "cell_type": "code",
   "execution_count": 70,
   "metadata": {},
   "outputs": [
    {
     "name": "stdout",
     "output_type": "stream",
     "text": [
      "+-----------+---------+---------+------+---+----------------+-----------------+----------+---------+----------+------------------+\n",
      "|Customer ID|     Name|  Surname|Gender|Age|          Region|JobClassification|DateJoined|  Balance|      Date|Avg Montly Balance|\n",
      "+-----------+---------+---------+------+---+----------------+-----------------+----------+---------+----------+------------------+\n",
      "|  100000001|    Simon|    Walsh|  Male| 21|         England|     White Collar| 05.Jan.15|113810.15|2021-01-01| 9484.179166666667|\n",
      "|  400000002|  Jasmine|   Miller|Female| 34|Northern Ireland|      Blue Collar| 06.Jan.15| 36919.73|2021-01-01| 3076.644166666667|\n",
      "|  100000003|     Liam|    Brown|  Male| 46|         England|     White Collar| 07.Jan.15|101536.83|2021-01-01|         8461.4025|\n",
      "|  300000004|   Trevor|     Parr|  Male| 32|           Wales|     White Collar| 08.Jan.15|  1421.52|2021-01-01|            118.46|\n",
      "|  100000005|  Deirdre|  Pullman|Female| 38|         England|      Blue Collar| 09.Jan.15| 35639.79|2021-01-01|         2969.9825|\n",
      "|  300000006|      Ava|  Coleman|Female| 30|           Wales|      Blue Collar| 09.Jan.15|122443.77|2021-01-01|10203.647500000001|\n",
      "|  100000007|  Dorothy|  Thomson|Female| 34|         England|      Blue Collar| 11.Jan.15| 42879.84|2021-01-01|3573.3199999999997|\n",
      "|  200000008|     Lisa|     Knox|Female| 48|        Scotland|            Other| 11.Jan.15| 36680.17|2021-01-01|3056.6808333333333|\n",
      "|  300000009|     Ruth| Campbell|Female| 33|           Wales|     White Collar| 11.Jan.15| 74284.35|2021-01-01|         6190.3625|\n",
      "|  100000010|  Dominic|     Parr|  Male| 42|         England|     White Collar| 12.Jan.15| 10912.45|2021-01-01| 909.3708333333334|\n",
      "|  100000011|  Dominic|    Lewis|  Male| 40|         England|     White Collar| 12.Jan.15| 39667.83|2021-01-01|         3305.6525|\n",
      "|  100000012| Benjamin|    Grant|  Male| 39|         England|     White Collar| 12.Jan.15| 32281.62|2021-01-01|2690.1349999999998|\n",
      "|  100000013|     Ryan|MacDonald|  Male| 24|         England|     White Collar| 12.Jan.15| 40781.63|2021-01-01|3398.4691666666663|\n",
      "|  200000014|   Thomas| Lawrence|  Male| 46|        Scotland|            Other| 12.Jan.15| 48791.46|2021-01-01|          4065.955|\n",
      "|  300000015|Madeleine| Marshall|Female| 36|           Wales|            Other| 12.Jan.15|  2846.03|2021-01-01|237.16916666666668|\n",
      "|  100000016| Nicholas|   Newman|  Male| 42|         England|     White Collar| 14.Jan.15|  2116.85|2021-01-01|176.40416666666667|\n",
      "|  200000017|    Grace|     Hill|Female| 31|        Scotland|            Other| 14.Jan.15| 10356.31|2021-01-01| 863.0258333333333|\n",
      "|  200000018| Samantha|  Coleman|Female| 42|        Scotland|            Other| 14.Jan.15|  3801.69|2021-01-01|          316.8075|\n",
      "|  100000019|  William|     Ince|  Male| 40|         England|      Blue Collar| 15.Jan.15| 65534.69|2021-01-01| 5461.224166666667|\n",
      "|  100000020|   Audrey|    Jones|Female| 46|         England|      Blue Collar| 15.Jan.15| 11462.64|2021-01-01| 955.2199999999999|\n",
      "+-----------+---------+---------+------+---+----------------+-----------------+----------+---------+----------+------------------+\n",
      "only showing top 20 rows\n",
      "\n"
     ]
    }
   ],
   "source": [
    "df.withColumn('Avg Montly Balance',df.Balance/12).show()  #Adding additional column in the view"
   ]
  },
  {
   "cell_type": "code",
   "execution_count": 128,
   "metadata": {
    "collapsed": true
   },
   "outputs": [
    {
     "name": "stdout",
     "output_type": "stream",
     "text": [
      "+-----------+-------+---------+------+---+--------+-----------------+----------+---------+----------+\n",
      "|Customer ID|   Name|  Surname|Gender|Age|  Region|JobClassification|DateJoined|  Balance|      Date|\n",
      "+-----------+-------+---------+------+---+--------+-----------------+----------+---------+----------+\n",
      "|  200000022|  Jason|   Butler|  Male| 58|Scotland|      Blue Collar| 18.Jan.15| 21252.97|2021-01-01|\n",
      "|  200000024|   Carl|    Quinn|  Male| 52|Scotland|      Blue Collar| 19.Jan.15|  6580.81|2021-01-01|\n",
      "|  200000026|Richard|   Fraser|  Male| 55|Scotland|      Blue Collar| 21.Jan.15| 43249.26|2021-01-01|\n",
      "|  200000033|  Grace|  Chapman|Female| 58|Scotland|            Other| 29.Jan.15|  25865.2|2021-01-01|\n",
      "|  200000040|  Gavin|  Pullman|  Male| 59|Scotland|            Other| 31.Jan.15|114456.23|2021-01-01|\n",
      "|  100000045|Dorothy| Johnston|Female| 53| England|            Other| 03.Feb.15|  2893.19|2021-01-01|\n",
      "|  200000068|  Lucas|    Piper|  Male| 61|Scotland|      Blue Collar| 12.Feb.15|  7162.43|2021-01-01|\n",
      "|  200000069|  Jason|    Sharp|  Male| 53|Scotland|      Blue Collar| 12.Feb.15| 35751.37|2021-01-01|\n",
      "|  200000072| Angela|  Roberts|Female| 51|Scotland|            Other| 12.Feb.15| 35937.38|2021-01-01|\n",
      "|  200000100|Carolyn|Robertson|Female| 56|Scotland|            Other| 16.Mar.15| 13251.27|2021-01-01|\n",
      "|  200000101|Stewart|    Lewis|  Male| 51|Scotland|      Blue Collar| 16.Mar.15|119014.87|2021-01-01|\n",
      "|  200000103| Nicola|   Powell|Female| 55|Scotland|     White Collar| 16.Mar.15| 35939.04|2021-01-01|\n",
      "|  200000104|  Diana| McDonald|Female| 57|Scotland|            Other| 16.Mar.15|  22686.0|2021-01-01|\n",
      "|  200000106|   Ella|     Bond|Female| 54|Scotland|            Other| 16.Mar.15| 44973.03|2021-01-01|\n",
      "|  200000109|    Joe|  Forsyth|  Male| 63|Scotland|            Other| 16.Mar.15| 73461.71|2021-01-01|\n",
      "|  200000110|    Tim|    Jones|  Male| 63|Scotland|      Blue Collar| 16.Mar.15| 26474.23|2021-01-01|\n",
      "|  200000118|   Adam|  McGrath|  Male| 52|Scotland|            Other| 28.Mar.15| 67682.92|2021-01-01|\n",
      "|  200000140|  Keith|   Harris|  Male| 57|Scotland|      Blue Collar| 02.Apr.15| 40510.36|2021-01-01|\n",
      "|  200000164| Claire|    Walsh|Female| 59|Scotland|            Other| 05.Apr.15| 67524.87|2021-01-01|\n",
      "|  200000165|   Paul|   Harris|  Male| 52|Scotland|      Blue Collar| 05.Apr.15|  4371.98|2021-01-01|\n",
      "+-----------+-------+---------+------+---+--------+-----------------+----------+---------+----------+\n",
      "only showing top 20 rows\n",
      "\n"
     ]
    }
   ],
   "source": [
    "df.where(df.Age>50).show()"
   ]
  },
  {
   "cell_type": "code",
   "execution_count": 148,
   "metadata": {},
   "outputs": [
    {
     "name": "stdout",
     "output_type": "stream",
     "text": [
      "+-----------+-----+-------+------+---+--------+-----------------+----------+--------+----------+\n",
      "|Customer ID| Name|Surname|Gender|Age|  Region|JobClassification|DateJoined| Balance|      Date|\n",
      "+-----------+-----+-------+------+---+--------+-----------------+----------+--------+----------+\n",
      "|  200000022|Jason| Butler|  Male| 58|Scotland|      Blue Collar| 18.Jan.15|21252.97|2021-01-01|\n",
      "+-----------+-----+-------+------+---+--------+-----------------+----------+--------+----------+\n",
      "\n"
     ]
    }
   ],
   "source": [
    "df.where(\"Name=='Jason' and Surname='Butler'\").show()"
   ]
  },
  {
   "cell_type": "code",
   "execution_count": 140,
   "metadata": {},
   "outputs": [
    {
     "name": "stdout",
     "output_type": "stream",
     "text": [
      "+-----------+-----+--------+------+---+----------------+-----------------+----------+--------+----------+\n",
      "|Customer ID| Name| Surname|Gender|Age|          Region|JobClassification|DateJoined| Balance|      Date|\n",
      "+-----------+-----+--------+------+---+----------------+-----------------+----------+--------+----------+\n",
      "|  200000022|Jason|  Butler|  Male| 58|        Scotland|      Blue Collar| 18.Jan.15|21252.97|2021-01-01|\n",
      "|  200000069|Jason|   Sharp|  Male| 53|        Scotland|      Blue Collar| 12.Feb.15|35751.37|2021-01-01|\n",
      "|  200000104|Diana|McDonald|Female| 57|        Scotland|            Other| 16.Mar.15| 22686.0|2021-01-01|\n",
      "|  100000161|Diana|  Powell|Female| 42|         England|     White Collar| 05.Apr.15|  2337.0|2021-01-01|\n",
      "|  200000191|Jason|  Fisher|  Male| 51|        Scotland|      Blue Collar| 08.Apr.15|  1239.6|2021-01-01|\n",
      "|  300000428|Diana|   Bower|Female| 49|           Wales|     White Collar| 09.May.15|20738.67|2021-01-01|\n",
      "|  200000504|Jason|   Lyman|  Male| 51|        Scotland|     White Collar| 15.May.15|16320.71|2021-01-01|\n",
      "|  300000592|Diana|  Martin|Female| 27|           Wales|     White Collar| 19.May.15|98541.75|2021-01-01|\n",
      "|  200000699|Jason| Cameron|  Male| 60|        Scotland|            Other| 27.May.15| 49081.5|2021-01-01|\n",
      "|  300000703|Diana|  Hodges|Female| 34|           Wales|     White Collar| 27.May.15|24796.57|2021-01-01|\n",
      "|  400000769|Jason|  Walker|  Male| 24|Northern Ireland|     White Collar| 31.May.15|78004.29|2021-01-01|\n",
      "|  200000803|Jason|   Clark|  Male| 49|        Scotland|      Blue Collar| 04.Jun.15|56825.53|2021-01-01|\n",
      "|  100000825|Jason|   Berry|  Male| 33|         England|            Other| 07.Jun.15|27818.08|2021-01-01|\n",
      "|  100000875|Jason| MacLeod|  Male| 47|         England|     White Collar| 14.Jun.15|69979.67|2021-01-01|\n",
      "|  400001022|Jason|   Bower|  Male| 38|Northern Ireland|     White Collar| 28.Jun.15|76999.31|2021-01-01|\n",
      "|  100001057|Diana|    Ross|Female| 26|         England|            Other| 02.Jul.15|10054.71|2021-01-01|\n",
      "|  100001397|Jason|   Piper|  Male| 36|         England|     White Collar| 27.Jul.15|23674.84|2021-01-01|\n",
      "|  100001416|Jason|    Nash|  Male| 44|         England|     White Collar| 28.Jul.15|23330.41|2021-01-01|\n",
      "|  100001713|Jason|McDonald|  Male| 34|         England|      Blue Collar| 23.Aug.15|21191.18|2021-01-01|\n",
      "|  300001750|Diana|   Piper|Female| 48|           Wales|     White Collar| 23.Aug.15|36947.59|2021-01-01|\n",
      "+-----------+-----+--------+------+---+----------------+-----------------+----------+--------+----------+\n",
      "only showing top 20 rows\n",
      "\n"
     ]
    }
   ],
   "source": [
    "df.where(\"Name in ('Jason','Diana')\").show()"
   ]
  },
  {
   "cell_type": "code",
   "execution_count": 152,
   "metadata": {},
   "outputs": [
    {
     "name": "stdout",
     "output_type": "stream",
     "text": [
      "+-----------+-----+--------+------+---+----------------+-----------------+----------+--------+----------+\n",
      "|Customer ID| Name| Surname|Gender|Age|          Region|JobClassification|DateJoined| Balance|      Date|\n",
      "+-----------+-----+--------+------+---+----------------+-----------------+----------+--------+----------+\n",
      "|  200000022|Jason|  Butler|  Male| 58|        Scotland|      Blue Collar| 18.Jan.15|21252.97|2021-01-01|\n",
      "|  200000069|Jason|   Sharp|  Male| 53|        Scotland|      Blue Collar| 12.Feb.15|35751.37|2021-01-01|\n",
      "|  200000104|Diana|McDonald|Female| 57|        Scotland|            Other| 16.Mar.15| 22686.0|2021-01-01|\n",
      "|  100000161|Diana|  Powell|Female| 42|         England|     White Collar| 05.Apr.15|  2337.0|2021-01-01|\n",
      "|  200000191|Jason|  Fisher|  Male| 51|        Scotland|      Blue Collar| 08.Apr.15|  1239.6|2021-01-01|\n",
      "|  300000428|Diana|   Bower|Female| 49|           Wales|     White Collar| 09.May.15|20738.67|2021-01-01|\n",
      "|  200000504|Jason|   Lyman|  Male| 51|        Scotland|     White Collar| 15.May.15|16320.71|2021-01-01|\n",
      "|  300000592|Diana|  Martin|Female| 27|           Wales|     White Collar| 19.May.15|98541.75|2021-01-01|\n",
      "|  200000699|Jason| Cameron|  Male| 60|        Scotland|            Other| 27.May.15| 49081.5|2021-01-01|\n",
      "|  300000703|Diana|  Hodges|Female| 34|           Wales|     White Collar| 27.May.15|24796.57|2021-01-01|\n",
      "|  400000769|Jason|  Walker|  Male| 24|Northern Ireland|     White Collar| 31.May.15|78004.29|2021-01-01|\n",
      "|  200000803|Jason|   Clark|  Male| 49|        Scotland|      Blue Collar| 04.Jun.15|56825.53|2021-01-01|\n",
      "|  100000825|Jason|   Berry|  Male| 33|         England|            Other| 07.Jun.15|27818.08|2021-01-01|\n",
      "|  100000875|Jason| MacLeod|  Male| 47|         England|     White Collar| 14.Jun.15|69979.67|2021-01-01|\n",
      "|  400001022|Jason|   Bower|  Male| 38|Northern Ireland|     White Collar| 28.Jun.15|76999.31|2021-01-01|\n",
      "|  100001057|Diana|    Ross|Female| 26|         England|            Other| 02.Jul.15|10054.71|2021-01-01|\n",
      "|  100001397|Jason|   Piper|  Male| 36|         England|     White Collar| 27.Jul.15|23674.84|2021-01-01|\n",
      "|  100001416|Jason|    Nash|  Male| 44|         England|     White Collar| 28.Jul.15|23330.41|2021-01-01|\n",
      "|  100001713|Jason|McDonald|  Male| 34|         England|      Blue Collar| 23.Aug.15|21191.18|2021-01-01|\n",
      "|  300001750|Diana|   Piper|Female| 48|           Wales|     White Collar| 23.Aug.15|36947.59|2021-01-01|\n",
      "+-----------+-----+--------+------+---+----------------+-----------------+----------+--------+----------+\n",
      "only showing top 20 rows\n",
      "\n"
     ]
    }
   ],
   "source": [
    "df.where(df.Name.isin ('Jason','Diana')).show()"
   ]
  },
  {
   "cell_type": "code",
   "execution_count": 159,
   "metadata": {},
   "outputs": [
    {
     "name": "stdout",
     "output_type": "stream",
     "text": [
      "+---------+-----------------------------+\n",
      "|     Name|((Age >= 30) AND (Age <= 50))|\n",
      "+---------+-----------------------------+\n",
      "|    Simon|                        false|\n",
      "|  Jasmine|                         true|\n",
      "|     Liam|                         true|\n",
      "|   Trevor|                         true|\n",
      "|  Deirdre|                         true|\n",
      "|      Ava|                         true|\n",
      "|  Dorothy|                         true|\n",
      "|     Lisa|                         true|\n",
      "|     Ruth|                         true|\n",
      "|  Dominic|                         true|\n",
      "|  Dominic|                         true|\n",
      "| Benjamin|                         true|\n",
      "|     Ryan|                        false|\n",
      "|   Thomas|                         true|\n",
      "|Madeleine|                         true|\n",
      "| Nicholas|                         true|\n",
      "|    Grace|                         true|\n",
      "| Samantha|                         true|\n",
      "|  William|                         true|\n",
      "|   Audrey|                         true|\n",
      "+---------+-----------------------------+\n",
      "only showing top 20 rows\n",
      "\n"
     ]
    }
   ],
   "source": [
    "df.select(df.Name,df.Age.between(30,50)).show()"
   ]
  },
  {
   "cell_type": "code",
   "execution_count": 161,
   "metadata": {},
   "outputs": [
    {
     "name": "stdout",
     "output_type": "stream",
     "text": [
      "+-----------+---------+--------+------+---+----------------+-----------------+----------+---------+----------+\n",
      "|Customer ID|     Name| Surname|Gender|Age|          Region|JobClassification|DateJoined|  Balance|      Date|\n",
      "+-----------+---------+--------+------+---+----------------+-----------------+----------+---------+----------+\n",
      "|  400000002|  Jasmine|  Miller|Female| 34|Northern Ireland|      Blue Collar| 06.Jan.15| 36919.73|2021-01-01|\n",
      "|  100000003|     Liam|   Brown|  Male| 46|         England|     White Collar| 07.Jan.15|101536.83|2021-01-01|\n",
      "|  300000004|   Trevor|    Parr|  Male| 32|           Wales|     White Collar| 08.Jan.15|  1421.52|2021-01-01|\n",
      "|  100000005|  Deirdre| Pullman|Female| 38|         England|      Blue Collar| 09.Jan.15| 35639.79|2021-01-01|\n",
      "|  300000006|      Ava| Coleman|Female| 30|           Wales|      Blue Collar| 09.Jan.15|122443.77|2021-01-01|\n",
      "|  100000007|  Dorothy| Thomson|Female| 34|         England|      Blue Collar| 11.Jan.15| 42879.84|2021-01-01|\n",
      "|  200000008|     Lisa|    Knox|Female| 48|        Scotland|            Other| 11.Jan.15| 36680.17|2021-01-01|\n",
      "|  300000009|     Ruth|Campbell|Female| 33|           Wales|     White Collar| 11.Jan.15| 74284.35|2021-01-01|\n",
      "|  100000010|  Dominic|    Parr|  Male| 42|         England|     White Collar| 12.Jan.15| 10912.45|2021-01-01|\n",
      "|  100000011|  Dominic|   Lewis|  Male| 40|         England|     White Collar| 12.Jan.15| 39667.83|2021-01-01|\n",
      "|  100000012| Benjamin|   Grant|  Male| 39|         England|     White Collar| 12.Jan.15| 32281.62|2021-01-01|\n",
      "|  200000014|   Thomas|Lawrence|  Male| 46|        Scotland|            Other| 12.Jan.15| 48791.46|2021-01-01|\n",
      "|  300000015|Madeleine|Marshall|Female| 36|           Wales|            Other| 12.Jan.15|  2846.03|2021-01-01|\n",
      "|  100000016| Nicholas|  Newman|  Male| 42|         England|     White Collar| 14.Jan.15|  2116.85|2021-01-01|\n",
      "|  200000017|    Grace|    Hill|Female| 31|        Scotland|            Other| 14.Jan.15| 10356.31|2021-01-01|\n",
      "|  200000018| Samantha| Coleman|Female| 42|        Scotland|            Other| 14.Jan.15|  3801.69|2021-01-01|\n",
      "|  100000019|  William|    Ince|  Male| 40|         England|      Blue Collar| 15.Jan.15| 65534.69|2021-01-01|\n",
      "|  100000020|   Audrey|   Jones|Female| 46|         England|      Blue Collar| 15.Jan.15| 11462.64|2021-01-01|\n",
      "|  300000021|    Boris|Johnston|  Male| 37|           Wales|            Other| 16.Jan.15|  31778.9|2021-01-01|\n",
      "|  300000023|  Deirdre|McDonald|Female| 41|           Wales|     White Collar| 18.Jan.15| 66785.78|2021-01-01|\n",
      "+-----------+---------+--------+------+---+----------------+-----------------+----------+---------+----------+\n",
      "only showing top 20 rows\n",
      "\n"
     ]
    }
   ],
   "source": [
    "df.where(df.Age.between(30,50)).show()"
   ]
  },
  {
   "cell_type": "code",
   "execution_count": 162,
   "metadata": {},
   "outputs": [],
   "source": [
    "#desc , #isnull , #like"
   ]
  },
  {
   "cell_type": "code",
   "execution_count": 169,
   "metadata": {},
   "outputs": [],
   "source": [
    "from pyspark.sql.functions import date_format"
   ]
  },
  {
   "cell_type": "code",
   "execution_count": 177,
   "metadata": {},
   "outputs": [
    {
     "ename": "SyntaxError",
     "evalue": "keyword can't be an expression (<ipython-input-177-20732a89b686>, line 1)",
     "output_type": "error",
     "traceback": [
      "\u001b[1;36m  File \u001b[1;32m\"<ipython-input-177-20732a89b686>\"\u001b[1;36m, line \u001b[1;32m1\u001b[0m\n\u001b[1;33m    join(df.Name=df1.Name).show()\u001b[0m\n\u001b[1;37m        ^\u001b[0m\n\u001b[1;31mSyntaxError\u001b[0m\u001b[1;31m:\u001b[0m keyword can't be an expression\n"
     ]
    }
   ],
   "source": []
  },
  {
   "cell_type": "code",
   "execution_count": 188,
   "metadata": {},
   "outputs": [
    {
     "data": {
      "text/plain": [
       "3224"
      ]
     },
     "execution_count": 188,
     "metadata": {},
     "output_type": "execute_result"
    }
   ],
   "source": [
    "df.join(df2,df.CustomerID==df2.CustomerID,how='inner').count()"
   ]
  },
  {
   "cell_type": "code",
   "execution_count": 189,
   "metadata": {},
   "outputs": [
    {
     "data": {
      "text/plain": [
       "4014"
      ]
     },
     "execution_count": 189,
     "metadata": {},
     "output_type": "execute_result"
    }
   ],
   "source": [
    "df.join(df2,df.CustomerID==df2.CustomerID,how='outer').count()"
   ]
  },
  {
   "cell_type": "code",
   "execution_count": 190,
   "metadata": {},
   "outputs": [
    {
     "data": {
      "text/plain": [
       "4014"
      ]
     },
     "execution_count": 190,
     "metadata": {},
     "output_type": "execute_result"
    }
   ],
   "source": [
    "df.join(df2,df.CustomerID==df2.CustomerID,how='left').count()"
   ]
  },
  {
   "cell_type": "code",
   "execution_count": 191,
   "metadata": {},
   "outputs": [
    {
     "data": {
      "text/plain": [
       "3224"
      ]
     },
     "execution_count": 191,
     "metadata": {},
     "output_type": "execute_result"
    }
   ],
   "source": [
    "df.join(df2,df.CustomerID==df2.CustomerID,how='right').count()"
   ]
  },
  {
   "cell_type": "code",
   "execution_count": 192,
   "metadata": {},
   "outputs": [
    {
     "data": {
      "text/plain": [
       "3224"
      ]
     },
     "execution_count": 192,
     "metadata": {},
     "output_type": "execute_result"
    }
   ],
   "source": [
    "df.join(df2,df.CustomerID==df2.CustomerID,how='left_semi').count()       #Inner"
   ]
  },
  {
   "cell_type": "code",
   "execution_count": 193,
   "metadata": {},
   "outputs": [
    {
     "data": {
      "text/plain": [
       "790"
      ]
     },
     "execution_count": 193,
     "metadata": {},
     "output_type": "execute_result"
    }
   ],
   "source": [
    "df.join(df2,df.CustomerID==df2.CustomerID,how='left_anti').count()     #Table1-Table2"
   ]
  },
  {
   "cell_type": "code",
   "execution_count": 209,
   "metadata": {},
   "outputs": [
    {
     "name": "stdout",
     "output_type": "stream",
     "text": [
      "+---------+---------------+--------+------------+\n",
      "|     Name|max(CustomerID)|max(Age)|max(Balance)|\n",
      "+---------+---------------+--------+------------+\n",
      "| Samantha|      400000706|      63|     86123.0|\n",
      "|  Carolyn|      400003848|      61|   118676.95|\n",
      "|      Sue|      400000488|      59|   139784.01|\n",
      "|    Scott|      100003978|      35|     18055.9|\n",
      "|    Grace|      400001001|      58|   138086.22|\n",
      "|    Lucas|      300003104|      61|   105718.04|\n",
      "|    Keith|      400003743|      61|   112243.76|\n",
      "|   Alison|      400002618|      64|   143808.39|\n",
      "|   Andrea|      400000676|      59|   136370.38|\n",
      "|   Amanda|      400003415|      57|    94722.42|\n",
      "|     Mary|      300002188|      55|    99806.54|\n",
      "|    James|      400002075|      56|   120278.47|\n",
      "|   Trevor|      400000830|      58|    99642.13|\n",
      "| Benjamin|      300004000|      57|   144209.77|\n",
      "|    Faith|      300003655|      51|   143879.62|\n",
      "|    Jason|      400001022|      61|   125213.72|\n",
      "|   Nathan|      300002689|      57|   126150.99|\n",
      "|  Natalie|      400002716|      53|    149684.4|\n",
      "|Christian|      400001297|      59|   115312.87|\n",
      "| Jennifer|      400002638|      47|   121591.95|\n",
      "+---------+---------------+--------+------------+\n",
      "only showing top 20 rows\n",
      "\n"
     ]
    }
   ],
   "source": [
    "df.groupBy('Name').max().show()"
   ]
  },
  {
   "cell_type": "code",
   "execution_count": 218,
   "metadata": {},
   "outputs": [
    {
     "name": "stdout",
     "output_type": "stream",
     "text": [
      "+---------+--------------------+------------------+------------------+\n",
      "|     Name|     avg(CustomerID)|          avg(Age)|      avg(Balance)|\n",
      "+---------+--------------------+------------------+------------------+\n",
      "| Samantha|1.5454743677272728E8| 37.54545454545455|23635.302272727276|\n",
      "|  Carolyn|1.7272910577272728E8| 40.63636363636363| 37982.76136363637|\n",
      "|      Sue|2.0000236188235295E8|36.294117647058826| 42331.39352941177|\n",
      "|    Scott|        1.00003978E8|              35.0|           18055.9|\n",
      "|    Grace|1.4230950792307693E8| 37.73076923076923| 38909.44307692308|\n",
      "|    Lucas| 1.666684574722222E8|41.638888888888886|33797.195555555554|\n",
      "|    Keith|1.7931248179310346E8| 39.62068965517241| 38144.08586206898|\n",
      "|   Alison| 1.777796548888889E8| 36.18518518518518| 43162.58851851852|\n",
      "|   Andrea| 1.545477055909091E8| 40.40909090909091|58807.494090909095|\n",
      "|   Amanda|1.8214487214285713E8|             35.25| 41665.08964285714|\n",
      "|     Mary|     1.50002373875E8|            37.625| 41534.60541666666|\n",
      "|    James| 2.096791936451613E8| 36.38709677419355| 38974.18451612903|\n",
      "|   Trevor| 1.821447199642857E8|38.035714285714285| 39813.59642857142|\n",
      "| Benjamin|       1.653864505E8| 40.15384615384615| 38327.70115384616|\n",
      "|    Faith|1.2631817315789473E8| 34.31578947368421| 46283.48105263158|\n",
      "|    Jason| 1.690497620952381E8|40.976190476190474| 46789.52023809523|\n",
      "|   Nathan| 1.535734857857143E8| 38.92857142857143|40975.657857142854|\n",
      "|  Natalie| 1.833351857222222E8| 33.94444444444444|46319.833333333336|\n",
      "|Christian|      1.7200188404E8|             41.88| 42966.45440000002|\n",
      "| Jennifer|2.2222435755555555E8| 35.22222222222222| 47005.32666666667|\n",
      "+---------+--------------------+------------------+------------------+\n",
      "only showing top 20 rows\n",
      "\n"
     ]
    }
   ],
   "source": [
    "df.groupBy('Name').avg().show()"
   ]
  },
  {
   "cell_type": "code",
   "execution_count": 212,
   "metadata": {},
   "outputs": [
    {
     "name": "stdout",
     "output_type": "stream",
     "text": [
      "+---------+------------------+\n",
      "|     Name|      sum(Balance)|\n",
      "+---------+------------------+\n",
      "| Samantha| 519976.6500000001|\n",
      "|  Carolyn| 835620.7500000001|\n",
      "|      Sue| 719633.6900000001|\n",
      "|    Scott|           18055.9|\n",
      "|    Grace|1011645.5200000001|\n",
      "|    Lucas|        1216699.04|\n",
      "|    Keith|1106178.4900000005|\n",
      "|   Alison|        1165389.89|\n",
      "|   Andrea|        1293764.87|\n",
      "|   Amanda|        1166622.51|\n",
      "|     Mary| 996830.5299999998|\n",
      "|    James|        1208199.72|\n",
      "|   Trevor|1114780.6999999997|\n",
      "| Benjamin| 996520.2300000001|\n",
      "|    Faith|         879386.14|\n",
      "|    Jason|1965159.8499999999|\n",
      "|   Nathan|        1147318.42|\n",
      "|  Natalie|          833757.0|\n",
      "|Christian|1074161.3600000003|\n",
      "| Jennifer|         846095.88|\n",
      "+---------+------------------+\n",
      "only showing top 20 rows\n",
      "\n"
     ]
    }
   ],
   "source": [
    "df.groupBy('Name').agg({'Balance':'sum'}).show()"
   ]
  },
  {
   "cell_type": "code",
   "execution_count": 213,
   "metadata": {},
   "outputs": [
    {
     "name": "stdout",
     "output_type": "stream",
     "text": [
      "+---------+--------+\n",
      "|     Name|max(Age)|\n",
      "+---------+--------+\n",
      "| Samantha|      63|\n",
      "|  Carolyn|      61|\n",
      "|      Sue|      59|\n",
      "|    Scott|      35|\n",
      "|    Grace|      58|\n",
      "|    Lucas|      61|\n",
      "|    Keith|      61|\n",
      "|   Alison|      64|\n",
      "|   Andrea|      59|\n",
      "|   Amanda|      57|\n",
      "|     Mary|      55|\n",
      "|    James|      56|\n",
      "|   Trevor|      58|\n",
      "| Benjamin|      57|\n",
      "|    Faith|      51|\n",
      "|    Jason|      61|\n",
      "|   Nathan|      57|\n",
      "|  Natalie|      53|\n",
      "|Christian|      59|\n",
      "| Jennifer|      47|\n",
      "+---------+--------+\n",
      "only showing top 20 rows\n",
      "\n"
     ]
    }
   ],
   "source": [
    "df.groupBy('Name').agg({'Age':'max'}).show()"
   ]
  },
  {
   "cell_type": "code",
   "execution_count": 215,
   "metadata": {},
   "outputs": [
    {
     "name": "stdout",
     "output_type": "stream",
     "text": [
      "+--------------------+\n",
      "|        sum(Balance)|\n",
      "+--------------------+\n",
      "|1.5962252337000012E8|\n",
      "+--------------------+\n",
      "\n"
     ]
    }
   ],
   "source": [
    "df.agg({'Balance':'sum'}).show()"
   ]
  },
  {
   "cell_type": "code",
   "execution_count": 219,
   "metadata": {},
   "outputs": [
    {
     "name": "stdout",
     "output_type": "stream",
     "text": [
      "+---------+-----+\n",
      "|     Name|count|\n",
      "+---------+-----+\n",
      "| Samantha|   22|\n",
      "|  Carolyn|   22|\n",
      "|      Sue|   17|\n",
      "|    Scott|    1|\n",
      "|    Grace|   26|\n",
      "|    Lucas|   36|\n",
      "|    Keith|   29|\n",
      "|   Alison|   27|\n",
      "|   Andrea|   22|\n",
      "|   Amanda|   28|\n",
      "|     Mary|   24|\n",
      "|    James|   31|\n",
      "|   Trevor|   28|\n",
      "| Benjamin|   26|\n",
      "|    Faith|   19|\n",
      "|    Jason|   42|\n",
      "|   Nathan|   28|\n",
      "|  Natalie|   18|\n",
      "|Christian|   25|\n",
      "| Jennifer|   18|\n",
      "+---------+-----+\n",
      "only showing top 20 rows\n",
      "\n"
     ]
    }
   ],
   "source": [
    "df.groupBy('Name').count().show()"
   ]
  },
  {
   "cell_type": "code",
   "execution_count": null,
   "metadata": {},
   "outputs": [],
   "source": []
  },
  {
   "cell_type": "code",
   "execution_count": null,
   "metadata": {},
   "outputs": [],
   "source": []
  }
 ],
 "metadata": {
  "kernelspec": {
   "display_name": "Python 3",
   "language": "python",
   "name": "python3"
  },
  "language_info": {
   "codemirror_mode": {
    "name": "ipython",
    "version": 3
   },
   "file_extension": ".py",
   "mimetype": "text/x-python",
   "name": "python",
   "nbconvert_exporter": "python",
   "pygments_lexer": "ipython3",
   "version": "3.7.9"
  }
 },
 "nbformat": 4,
 "nbformat_minor": 4
}
