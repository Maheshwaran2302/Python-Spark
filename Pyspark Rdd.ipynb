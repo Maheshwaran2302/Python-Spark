{
 "cells": [
  {
   "cell_type": "code",
   "execution_count": 1,
   "metadata": {},
   "outputs": [],
   "source": [
    "import os"
   ]
  },
  {
   "cell_type": "code",
   "execution_count": 2,
   "metadata": {},
   "outputs": [],
   "source": [
    "os.environ['PYSPARK_SUBMIT_ARGS'] = 'pyspark-shell'"
   ]
  },
  {
   "cell_type": "code",
   "execution_count": 1,
   "metadata": {},
   "outputs": [],
   "source": [
    "import findspark"
   ]
  },
  {
   "cell_type": "code",
   "execution_count": 88,
   "metadata": {},
   "outputs": [],
   "source": [
    "import pyspark"
   ]
  },
  {
   "cell_type": "code",
   "execution_count": 2,
   "metadata": {},
   "outputs": [
    {
     "data": {
      "text/plain": [
       "'C:\\\\Spark\\\\spark-3.0.1-bin-hadoop2.7'"
      ]
     },
     "execution_count": 2,
     "metadata": {},
     "output_type": "execute_result"
    }
   ],
   "source": [
    "findspark.init()\n",
    "findspark.find()"
   ]
  },
  {
   "cell_type": "code",
   "execution_count": 22,
   "metadata": {},
   "outputs": [
    {
     "name": "stdout",
     "output_type": "stream",
     "text": [
      "<SparkContext master=local[*] appName=PySparkShell>\n"
     ]
    }
   ],
   "source": [
    "from pyspark import SparkContext\n",
    "\n",
    "sc=SparkContext.getOrCreate()\n",
    "print(sc)"
   ]
  },
  {
   "cell_type": "code",
   "execution_count": 23,
   "metadata": {},
   "outputs": [
    {
     "data": {
      "text/plain": [
       "12"
      ]
     },
     "execution_count": 23,
     "metadata": {},
     "output_type": "execute_result"
    }
   ],
   "source": [
    "num=sc.parallelize([1,2,2,3,4]) #Initialise RDD\n",
    "num1=num.distinct()\n",
    "num.sum()"
   ]
  },
  {
   "cell_type": "code",
   "execution_count": 44,
   "metadata": {},
   "outputs": [
    {
     "data": {
      "text/plain": [
       "defaultdict(int, {1: 1, 2: 2, 3: 1, 4: 1})"
      ]
     },
     "execution_count": 44,
     "metadata": {},
     "output_type": "execute_result"
    }
   ],
   "source": [
    "num.countByValue()        #countByKey can be used in case of dictionaries"
   ]
  },
  {
   "cell_type": "code",
   "execution_count": 43,
   "metadata": {},
   "outputs": [
    {
     "data": {
      "text/plain": [
       "12"
      ]
     },
     "execution_count": 43,
     "metadata": {},
     "output_type": "execute_result"
    }
   ],
   "source": [
    "num.reduce(lambda a,b: a+b)"
   ]
  },
  {
   "cell_type": "code",
   "execution_count": 60,
   "metadata": {},
   "outputs": [
    {
     "name": "stdout",
     "output_type": "stream",
     "text": [
      "[1, 2, 2, 3, 4]\n",
      "[(1, 1), (2, 4), (2, 4), (3, 9), (4, 16)]\n",
      "[1, 1, 1, 2, 4, 8, 2, 4, 8, 3, 9, 27, 4, 16, 64]\n"
     ]
    }
   ],
   "source": [
    "num2=num.map(lambda x:(x,x*x))\n",
    "num3=num.flatMap(lambda x:(x,x*x,x*x*x))\n",
    "print(num.collect())\n",
    "print(num2.collect())\n",
    "print(num3.collect())"
   ]
  },
  {
   "cell_type": "code",
   "execution_count": 25,
   "metadata": {},
   "outputs": [
    {
     "data": {
      "text/plain": [
       "pyspark.rdd.RDD"
      ]
     },
     "execution_count": 25,
     "metadata": {},
     "output_type": "execute_result"
    }
   ],
   "source": [
    "type(num)"
   ]
  },
  {
   "cell_type": "code",
   "execution_count": 26,
   "metadata": {},
   "outputs": [
    {
     "data": {
      "text/plain": [
       "pyspark.rdd.PipelinedRDD"
      ]
     },
     "execution_count": 26,
     "metadata": {},
     "output_type": "execute_result"
    }
   ],
   "source": [
    "type(num1)"
   ]
  },
  {
   "cell_type": "code",
   "execution_count": 27,
   "metadata": {},
   "outputs": [
    {
     "data": {
      "text/plain": [
       "['__add__',\n",
       " '__class__',\n",
       " '__delattr__',\n",
       " '__dict__',\n",
       " '__dir__',\n",
       " '__doc__',\n",
       " '__eq__',\n",
       " '__format__',\n",
       " '__ge__',\n",
       " '__getattribute__',\n",
       " '__getnewargs__',\n",
       " '__gt__',\n",
       " '__hash__',\n",
       " '__init__',\n",
       " '__init_subclass__',\n",
       " '__le__',\n",
       " '__lt__',\n",
       " '__module__',\n",
       " '__ne__',\n",
       " '__new__',\n",
       " '__reduce__',\n",
       " '__reduce_ex__',\n",
       " '__repr__',\n",
       " '__setattr__',\n",
       " '__sizeof__',\n",
       " '__str__',\n",
       " '__subclasshook__',\n",
       " '__weakref__',\n",
       " '_computeFractionForSampleSize',\n",
       " '_defaultReducePartitions',\n",
       " '_id',\n",
       " '_is_barrier',\n",
       " '_jrdd',\n",
       " '_jrdd_deserializer',\n",
       " '_memory_limit',\n",
       " '_pickled',\n",
       " '_reserialize',\n",
       " '_to_java_object_rdd',\n",
       " 'aggregate',\n",
       " 'aggregateByKey',\n",
       " 'barrier',\n",
       " 'cache',\n",
       " 'cartesian',\n",
       " 'checkpoint',\n",
       " 'coalesce',\n",
       " 'cogroup',\n",
       " 'collect',\n",
       " 'collectAsMap',\n",
       " 'collectWithJobGroup',\n",
       " 'combineByKey',\n",
       " 'context',\n",
       " 'count',\n",
       " 'countApprox',\n",
       " 'countApproxDistinct',\n",
       " 'countByKey',\n",
       " 'countByValue',\n",
       " 'ctx',\n",
       " 'distinct',\n",
       " 'filter',\n",
       " 'first',\n",
       " 'flatMap',\n",
       " 'flatMapValues',\n",
       " 'fold',\n",
       " 'foldByKey',\n",
       " 'foreach',\n",
       " 'foreachPartition',\n",
       " 'fullOuterJoin',\n",
       " 'getCheckpointFile',\n",
       " 'getNumPartitions',\n",
       " 'getStorageLevel',\n",
       " 'glom',\n",
       " 'groupBy',\n",
       " 'groupByKey',\n",
       " 'groupWith',\n",
       " 'histogram',\n",
       " 'id',\n",
       " 'intersection',\n",
       " 'isCheckpointed',\n",
       " 'isEmpty',\n",
       " 'isLocallyCheckpointed',\n",
       " 'is_cached',\n",
       " 'is_checkpointed',\n",
       " 'join',\n",
       " 'keyBy',\n",
       " 'keys',\n",
       " 'leftOuterJoin',\n",
       " 'localCheckpoint',\n",
       " 'lookup',\n",
       " 'map',\n",
       " 'mapPartitions',\n",
       " 'mapPartitionsWithIndex',\n",
       " 'mapPartitionsWithSplit',\n",
       " 'mapValues',\n",
       " 'max',\n",
       " 'mean',\n",
       " 'meanApprox',\n",
       " 'min',\n",
       " 'name',\n",
       " 'partitionBy',\n",
       " 'partitioner',\n",
       " 'persist',\n",
       " 'pipe',\n",
       " 'randomSplit',\n",
       " 'reduce',\n",
       " 'reduceByKey',\n",
       " 'reduceByKeyLocally',\n",
       " 'repartition',\n",
       " 'repartitionAndSortWithinPartitions',\n",
       " 'rightOuterJoin',\n",
       " 'sample',\n",
       " 'sampleByKey',\n",
       " 'sampleStdev',\n",
       " 'sampleVariance',\n",
       " 'saveAsHadoopDataset',\n",
       " 'saveAsHadoopFile',\n",
       " 'saveAsNewAPIHadoopDataset',\n",
       " 'saveAsNewAPIHadoopFile',\n",
       " 'saveAsPickleFile',\n",
       " 'saveAsSequenceFile',\n",
       " 'saveAsTextFile',\n",
       " 'setName',\n",
       " 'sortBy',\n",
       " 'sortByKey',\n",
       " 'stats',\n",
       " 'stdev',\n",
       " 'subtract',\n",
       " 'subtractByKey',\n",
       " 'sum',\n",
       " 'sumApprox',\n",
       " 'take',\n",
       " 'takeOrdered',\n",
       " 'takeSample',\n",
       " 'toDF',\n",
       " 'toDebugString',\n",
       " 'toLocalIterator',\n",
       " 'top',\n",
       " 'treeAggregate',\n",
       " 'treeReduce',\n",
       " 'union',\n",
       " 'unpersist',\n",
       " 'values',\n",
       " 'variance',\n",
       " 'zip',\n",
       " 'zipWithIndex',\n",
       " 'zipWithUniqueId']"
      ]
     },
     "execution_count": 27,
     "metadata": {},
     "output_type": "execute_result"
    }
   ],
   "source": [
    "dir(num)        #All the available functions for the RDD"
   ]
  },
  {
   "cell_type": "code",
   "execution_count": 1,
   "metadata": {},
   "outputs": [],
   "source": [
    "#help(num)"
   ]
  },
  {
   "cell_type": "code",
   "execution_count": 64,
   "metadata": {},
   "outputs": [
    {
     "data": {
      "text/plain": [
       "[2, 2, 4]"
      ]
     },
     "execution_count": 64,
     "metadata": {},
     "output_type": "execute_result"
    }
   ],
   "source": [
    "num.filter(lambda x:(x%2==0)).collect()"
   ]
  },
  {
   "cell_type": "code",
   "execution_count": 49,
   "metadata": {},
   "outputs": [
    {
     "data": {
      "text/plain": [
       "[1, 2, 3, 4, 5, 6, 7, 8, 9]"
      ]
     },
     "execution_count": 49,
     "metadata": {},
     "output_type": "execute_result"
    }
   ],
   "source": [
    "x=sc.parallelize(range(1,10))               #Default initial value is 0\n",
    "x.collect()\n",
    "\n",
    "#max() #min() #mean() #sum() #stdev() \n",
    "#stats- for whole summary\n",
    "#variance()- will take all values \n",
    "#sampleVariance()-will skip last value\n"
   ]
  },
  {
   "cell_type": "code",
   "execution_count": 76,
   "metadata": {},
   "outputs": [
    {
     "name": "stdout",
     "output_type": "stream",
     "text": [
      "[('A', 1), ('B', 2), ('C', 3), ('A', 4), ('B', 5)]\n"
     ]
    },
    {
     "ename": "NameError",
     "evalue": "name 'i' is not defined",
     "output_type": "error",
     "traceback": [
      "\u001b[1;31m---------------------------------------------------------------------------\u001b[0m",
      "\u001b[1;31mNameError\u001b[0m                                 Traceback (most recent call last)",
      "\u001b[1;32m<ipython-input-76-94ae5fda32f7>\u001b[0m in \u001b[0;36m<module>\u001b[1;34m\u001b[0m\n\u001b[0;32m      2\u001b[0m \u001b[0my\u001b[0m\u001b[1;33m=\u001b[0m\u001b[0mx\u001b[0m\u001b[1;33m.\u001b[0m\u001b[0mgroupByKey\u001b[0m\u001b[1;33m(\u001b[0m\u001b[1;33m)\u001b[0m\u001b[1;33m\u001b[0m\u001b[1;33m\u001b[0m\u001b[0m\n\u001b[0;32m      3\u001b[0m \u001b[0mprint\u001b[0m\u001b[1;33m(\u001b[0m\u001b[0mx\u001b[0m\u001b[1;33m.\u001b[0m\u001b[0mcollect\u001b[0m\u001b[1;33m(\u001b[0m\u001b[1;33m)\u001b[0m\u001b[1;33m)\u001b[0m\u001b[1;33m\u001b[0m\u001b[1;33m\u001b[0m\u001b[0m\n\u001b[1;32m----> 4\u001b[1;33m \u001b[0mprint\u001b[0m\u001b[1;33m(\u001b[0m\u001b[1;33m[\u001b[0m\u001b[1;33m(\u001b[0m\u001b[0mj\u001b[0m\u001b[1;33m[\u001b[0m\u001b[1;36m0\u001b[0m\u001b[1;33m]\u001b[0m\u001b[1;33m,\u001b[0m\u001b[1;33m[\u001b[0m\u001b[0mi\u001b[0m \u001b[1;32mfor\u001b[0m \u001b[0mi\u001b[0m \u001b[1;32min\u001b[0m \u001b[0mj\u001b[0m\u001b[1;33m[\u001b[0m\u001b[0mi\u001b[0m\u001b[1;33m]\u001b[0m\u001b[1;33m]\u001b[0m\u001b[1;33m)\u001b[0m \u001b[1;32mfor\u001b[0m \u001b[0mj\u001b[0m \u001b[1;32min\u001b[0m \u001b[0my\u001b[0m\u001b[1;33m.\u001b[0m\u001b[0mcollect\u001b[0m\u001b[1;33m(\u001b[0m\u001b[1;33m)\u001b[0m\u001b[1;33m]\u001b[0m\u001b[1;33m)\u001b[0m\u001b[1;33m\u001b[0m\u001b[1;33m\u001b[0m\u001b[0m\n\u001b[0m",
      "\u001b[1;32m<ipython-input-76-94ae5fda32f7>\u001b[0m in \u001b[0;36m<listcomp>\u001b[1;34m(.0)\u001b[0m\n\u001b[0;32m      2\u001b[0m \u001b[0my\u001b[0m\u001b[1;33m=\u001b[0m\u001b[0mx\u001b[0m\u001b[1;33m.\u001b[0m\u001b[0mgroupByKey\u001b[0m\u001b[1;33m(\u001b[0m\u001b[1;33m)\u001b[0m\u001b[1;33m\u001b[0m\u001b[1;33m\u001b[0m\u001b[0m\n\u001b[0;32m      3\u001b[0m \u001b[0mprint\u001b[0m\u001b[1;33m(\u001b[0m\u001b[0mx\u001b[0m\u001b[1;33m.\u001b[0m\u001b[0mcollect\u001b[0m\u001b[1;33m(\u001b[0m\u001b[1;33m)\u001b[0m\u001b[1;33m)\u001b[0m\u001b[1;33m\u001b[0m\u001b[1;33m\u001b[0m\u001b[0m\n\u001b[1;32m----> 4\u001b[1;33m \u001b[0mprint\u001b[0m\u001b[1;33m(\u001b[0m\u001b[1;33m[\u001b[0m\u001b[1;33m(\u001b[0m\u001b[0mj\u001b[0m\u001b[1;33m[\u001b[0m\u001b[1;36m0\u001b[0m\u001b[1;33m]\u001b[0m\u001b[1;33m,\u001b[0m\u001b[1;33m[\u001b[0m\u001b[0mi\u001b[0m \u001b[1;32mfor\u001b[0m \u001b[0mi\u001b[0m \u001b[1;32min\u001b[0m \u001b[0mj\u001b[0m\u001b[1;33m[\u001b[0m\u001b[0mi\u001b[0m\u001b[1;33m]\u001b[0m\u001b[1;33m]\u001b[0m\u001b[1;33m)\u001b[0m \u001b[1;32mfor\u001b[0m \u001b[0mj\u001b[0m \u001b[1;32min\u001b[0m \u001b[0my\u001b[0m\u001b[1;33m.\u001b[0m\u001b[0mcollect\u001b[0m\u001b[1;33m(\u001b[0m\u001b[1;33m)\u001b[0m\u001b[1;33m]\u001b[0m\u001b[1;33m)\u001b[0m\u001b[1;33m\u001b[0m\u001b[1;33m\u001b[0m\u001b[0m\n\u001b[0m",
      "\u001b[1;31mNameError\u001b[0m: name 'i' is not defined"
     ]
    }
   ],
   "source": [
    "x=sc.parallelize([('A',1),('B',2),('C',3),('A',4),('B',5)])\n",
    "y=x.groupByKey()\n",
    "print(x.collect())\n",
    "print([(j[0],[i for i in j[i]]) for j in y.collect()])"
   ]
  },
  {
   "cell_type": "code",
   "execution_count": 29,
   "metadata": {},
   "outputs": [],
   "source": [
    "house_rdd=sc.textFile('D:\\Trim 5\\R\\house_prices.csv')  #READ\n",
    "\n",
    "#WRITE\n",
    "#house_rdd.saveAsTextFile('location')\n",
    "#house_rdd.saveAsPickleFile('location')"
   ]
  },
  {
   "cell_type": "code",
   "execution_count": 30,
   "metadata": {},
   "outputs": [
    {
     "data": {
      "text/plain": [
       "'Home,Price,SqFt,Bedrooms,Bathrooms,Offers,Brick,Neighborhood'"
      ]
     },
     "execution_count": 30,
     "metadata": {},
     "output_type": "execute_result"
    }
   ],
   "source": [
    "house_rdd.first()"
   ]
  },
  {
   "cell_type": "code",
   "execution_count": 35,
   "metadata": {},
   "outputs": [
    {
     "data": {
      "text/plain": [
       "['Home,Price,SqFt,Bedrooms,Bathrooms,Offers,Brick,Neighborhood',\n",
       " '1,114300,1790,2,2,2,yes,East',\n",
       " '2,114200,2030,4,2,3,yes,East',\n",
       " '3,114800,1740,3,2,1,yes,East',\n",
       " '4,94700,1980,3,2,3,yes,East',\n",
       " '5,119800,2130,3,3,3,yes,East',\n",
       " '6,114600,1780,3,2,2,yes,North',\n",
       " '7,151600,1830,3,3,3,no,West',\n",
       " '8,150700,2160,4,2,2,yes,West',\n",
       " '9,119200,2110,4,2,3,yes,East',\n",
       " '10,104000,1730,3,3,3,yes,East',\n",
       " '11,132500,2030,3,2,3,no,East',\n",
       " '12,123000,1870,2,2,2,no,East',\n",
       " '13,102600,1910,3,2,4,yes,North',\n",
       " '14,126300,2150,3,3,5,no,North',\n",
       " '15,176800,2590,4,3,4,yes,West',\n",
       " '16,145800,1780,4,2,1,yes,West',\n",
       " '17,147100,2190,3,3,4,no,East',\n",
       " '18,83600,1990,3,3,4,yes,North',\n",
       " '19,111400,1700,2,2,1,no,East',\n",
       " '20,167200,1920,3,3,2,no,West',\n",
       " '21,116200,1790,3,2,3,yes,East',\n",
       " '22,113800,2000,3,2,4,yes,North',\n",
       " '23,91700,1690,3,2,3,yes,North',\n",
       " '24,106100,1820,3,2,3,no,North',\n",
       " '25,156400,2210,4,3,2,no,East',\n",
       " '26,149300,2290,4,3,3,yes,North',\n",
       " '27,137000,2000,4,2,3,yes,West',\n",
       " '28,99300,1700,3,2,2,yes,East',\n",
       " '29,69100,1600,2,2,3,yes,North',\n",
       " '30,188000,2040,4,3,1,no,West',\n",
       " '31,182000,2250,4,3,3,no,West',\n",
       " '32,112300,1930,2,2,2,no,North',\n",
       " '33,135000,2250,3,3,3,no,East',\n",
       " '34,139600,2280,5,3,4,no,East',\n",
       " '35,117800,2000,2,2,3,yes,North',\n",
       " '36,117100,2080,3,3,3,yes,North',\n",
       " '37,117500,1880,2,2,2,yes,North',\n",
       " '38,147000,2420,4,3,4,yes,West',\n",
       " '39,131300,1720,3,2,1,yes,West',\n",
       " '40,108200,1740,3,2,2,yes,North',\n",
       " '41,106600,1560,2,2,1,yes,East',\n",
       " '42,133600,1840,4,3,2,yes,West',\n",
       " '43,105600,1990,2,2,3,yes,East',\n",
       " '44,154000,1920,3,2,1,no,East',\n",
       " '45,166500,1940,3,3,2,no,West',\n",
       " '46,103200,1810,3,2,3,yes,East',\n",
       " '47,129800,1990,2,3,2,yes,North',\n",
       " '48,90300,2050,3,2,6,yes,North',\n",
       " '49,115900,1980,2,2,2,yes,East',\n",
       " '50,107500,1700,3,2,3,no,North',\n",
       " '51,151100,2100,3,2,3,no,East',\n",
       " '52,91100,1860,2,2,3,yes,North',\n",
       " '53,117400,2150,2,3,4,yes,North',\n",
       " '54,130800,2100,3,2,3,yes,North',\n",
       " '55,81300,1650,3,2,3,yes,North',\n",
       " '56,125700,1720,2,2,2,no,East',\n",
       " '57,140900,2190,3,2,3,no,East',\n",
       " '58,152300,2240,4,3,3,yes,West',\n",
       " '59,138100,1840,3,3,1,yes,West',\n",
       " '60,155400,2090,4,2,1,yes,West',\n",
       " '61,180900,2200,3,3,1,yes,West',\n",
       " '62,100900,1610,2,2,2,yes,North',\n",
       " '63,161300,2220,4,3,2,yes,West',\n",
       " '64,120500,1910,2,3,2,yes,East',\n",
       " '65,130300,1860,3,2,2,yes,West',\n",
       " '66,111100,1450,2,2,1,no,North',\n",
       " '67,126200,2210,3,3,4,yes,North',\n",
       " '68,151900,2040,4,3,3,yes,East',\n",
       " '69,93600,2140,3,2,4,yes,North',\n",
       " '70,165600,2080,4,3,3,yes,West',\n",
       " '71,166700,1950,3,3,3,no,West',\n",
       " '72,157600,2160,4,2,1,yes,West',\n",
       " '73,107300,1650,3,2,3,yes,North',\n",
       " '74,125700,2040,3,3,2,yes,East',\n",
       " '75,144200,2140,3,3,3,yes,West',\n",
       " '76,106900,1900,2,2,2,yes,North',\n",
       " '77,129800,1930,3,2,2,yes,West',\n",
       " '78,176500,2280,4,3,3,no,West',\n",
       " '79,121300,2130,3,2,3,yes,North',\n",
       " '80,143600,1780,4,2,1,yes,West',\n",
       " '81,143400,2190,3,3,4,no,East',\n",
       " '82,184300,2140,4,3,2,no,West',\n",
       " '83,164800,2050,2,2,1,no,West',\n",
       " '84,147700,2410,3,3,2,yes,East',\n",
       " '85,90500,1520,2,2,3,yes,North',\n",
       " '86,188300,2250,4,3,2,no,West',\n",
       " '87,102700,1900,4,2,4,yes,North',\n",
       " '88,172500,1880,3,3,1,no,West',\n",
       " '89,127700,1930,3,3,2,yes,North',\n",
       " '90,97800,2010,2,2,4,yes,North',\n",
       " '91,143100,1920,4,2,2,yes,West',\n",
       " '92,116500,2150,3,2,2,yes,East',\n",
       " '93,142600,2110,3,2,2,yes,West',\n",
       " '94,157100,2080,3,3,2,yes,East',\n",
       " '95,160600,2150,4,3,3,no,West',\n",
       " '96,152500,1970,2,2,1,no,West',\n",
       " '97,133300,2440,3,3,3,yes,East',\n",
       " '98,126800,2000,2,2,1,no,East',\n",
       " '99,145500,2060,3,2,1,yes,West',\n",
       " '100,171000,2080,3,3,2,no,West',\n",
       " '101,103200,2010,3,2,5,yes,North',\n",
       " '102,123100,2260,3,3,5,yes,East',\n",
       " '103,136800,2410,3,3,4,yes,East',\n",
       " '104,211200,2440,4,3,3,no,West',\n",
       " '105,82300,1910,3,2,4,yes,East',\n",
       " '106,146900,2530,4,3,4,yes,West',\n",
       " '107,108500,2130,3,2,4,yes,North',\n",
       " '108,134000,1890,3,2,1,no,East',\n",
       " '109,117000,1990,3,3,3,no,East',\n",
       " '110,108700,2110,3,2,3,yes,East',\n",
       " '111,111600,1710,2,2,1,yes,North',\n",
       " '112,114900,1740,2,2,2,yes,North',\n",
       " '113,123600,1940,2,2,2,no,East',\n",
       " '114,115700,2000,3,2,3,no,North',\n",
       " '115,124500,2010,4,3,2,yes,East',\n",
       " '116,102500,1900,3,3,3,yes,North',\n",
       " '117,199500,2290,5,4,1,no,West',\n",
       " '118,117800,1920,3,2,2,yes,North',\n",
       " '119,150200,1950,3,2,3,no,North',\n",
       " '120,109700,1920,2,2,4,yes,North',\n",
       " '121,110400,1930,2,3,3,yes,North',\n",
       " '122,105600,1930,3,3,3,yes,East',\n",
       " '123,144800,2060,2,2,1,no,East',\n",
       " '124,119700,1900,3,3,3,no,East',\n",
       " '125,147900,2160,4,3,3,no,East',\n",
       " '126,113500,2070,2,2,2,yes,North',\n",
       " '127,149900,2020,3,3,1,yes,West',\n",
       " '128,124600,2250,3,3,4,yes,North']"
      ]
     },
     "execution_count": 35,
     "metadata": {},
     "output_type": "execute_result"
    }
   ],
   "source": [
    "house_rdd.collect()"
   ]
  },
  {
   "cell_type": "code",
   "execution_count": 36,
   "metadata": {},
   "outputs": [
    {
     "data": {
      "text/plain": [
       "['Home,Price,SqFt,Bedrooms,Bathrooms,Offers,Brick,Neighborhood',\n",
       " '1,114300,1790,2,2,2,yes,East',\n",
       " '2,114200,2030,4,2,3,yes,East',\n",
       " '3,114800,1740,3,2,1,yes,East']"
      ]
     },
     "execution_count": 36,
     "metadata": {},
     "output_type": "execute_result"
    }
   ],
   "source": [
    "house_rdd.take(4)"
   ]
  },
  {
   "cell_type": "code",
   "execution_count": 37,
   "metadata": {},
   "outputs": [
    {
     "data": {
      "text/plain": [
       "['Home,Price,SqFt,Bedrooms,Bathrooms,Offers,Brick,Neighborhood',\n",
       " '99,145500,2060,3,2,1,yes,West',\n",
       " '98,126800,2000,2,2,1,no,East',\n",
       " '97,133300,2440,3,3,3,yes,East',\n",
       " '96,152500,1970,2,2,1,no,West']"
      ]
     },
     "execution_count": 37,
     "metadata": {},
     "output_type": "execute_result"
    }
   ],
   "source": [
    "house_rdd.top(5)"
   ]
  },
  {
   "cell_type": "code",
   "execution_count": 41,
   "metadata": {},
   "outputs": [
    {
     "data": {
      "text/plain": [
       "129"
      ]
     },
     "execution_count": 41,
     "metadata": {},
     "output_type": "execute_result"
    }
   ],
   "source": [
    "house_rdd.count()"
   ]
  },
  {
   "cell_type": "code",
   "execution_count": 42,
   "metadata": {},
   "outputs": [
    {
     "data": {
      "text/plain": [
       "['60,155400,2090,4,2,1,yes,West',\n",
       " '100,171000,2080,3,3,2,no,West',\n",
       " '69,93600,2140,3,2,4,yes,North',\n",
       " '98,126800,2000,2,2,1,no,East',\n",
       " '46,103200,1810,3,2,3,yes,East']"
      ]
     },
     "execution_count": 42,
     "metadata": {},
     "output_type": "execute_result"
    }
   ],
   "source": [
    "house_rdd.takeSample(False,5)    #False-no repetition of values"
   ]
  },
  {
   "cell_type": "code",
   "execution_count": 66,
   "metadata": {
    "scrolled": false
   },
   "outputs": [],
   "source": [
    "house_partition=house_rdd.sample(False,0.8) #80% of data is stored in house_partition"
   ]
  },
  {
   "cell_type": "code",
   "execution_count": 68,
   "metadata": {},
   "outputs": [
    {
     "data": {
      "text/plain": [
       "235"
      ]
     },
     "execution_count": 68,
     "metadata": {},
     "output_type": "execute_result"
    }
   ],
   "source": [
    "house_rdd.union(house_partition).count()   #129+106=235"
   ]
  },
  {
   "cell_type": "code",
   "execution_count": 99,
   "metadata": {},
   "outputs": [
    {
     "data": {
      "text/plain": [
       "106"
      ]
     },
     "execution_count": 99,
     "metadata": {},
     "output_type": "execute_result"
    }
   ],
   "source": [
    "house_rdd.intersection(house_partition).count()"
   ]
  },
  {
   "cell_type": "code",
   "execution_count": 70,
   "metadata": {},
   "outputs": [
    {
     "data": {
      "text/plain": [
       "129"
      ]
     },
     "execution_count": 70,
     "metadata": {},
     "output_type": "execute_result"
    }
   ],
   "source": [
    "house_rdd.union(house_partition).distinct().count()   #Distinct eliminates duplicate values"
   ]
  },
  {
   "cell_type": "code",
   "execution_count": 83,
   "metadata": {},
   "outputs": [
    {
     "name": "stdout",
     "output_type": "stream",
     "text": [
      "33.75800679999975\n"
     ]
    }
   ],
   "source": [
    "import timeit\n",
    "start = timeit.default_timer()\n",
    "house_rdd.count()\n",
    "house_rdd.intersection(house_partition).count()\n",
    "house_rdd.union(house_partition).distinct().count()\n",
    "house_rdd.collect()\n",
    "end = timeit.default_timer()\n",
    "print(end-start)"
   ]
  },
  {
   "cell_type": "code",
   "execution_count": 84,
   "metadata": {},
   "outputs": [
    {
     "data": {
      "text/plain": [
       "D:\\Trim 5\\R\\house_prices.csv MapPartitionsRDD[31] at textFile at <unknown>:0"
      ]
     },
     "execution_count": 84,
     "metadata": {},
     "output_type": "execute_result"
    }
   ],
   "source": [
    "house_rdd.cache()           #Creating a cache memory for faster execution\n",
    "                            #house_rdd.persist() is used when specifying the memory to be used"
   ]
  },
  {
   "cell_type": "code",
   "execution_count": 85,
   "metadata": {},
   "outputs": [
    {
     "name": "stdout",
     "output_type": "stream",
     "text": [
      "27.67986760000076\n"
     ]
    }
   ],
   "source": [
    "import timeit\n",
    "start = timeit.default_timer()\n",
    "house_rdd.count()\n",
    "house_rdd.intersection(house_partition).count()\n",
    "house_rdd.union(house_partition).distinct().count()\n",
    "house_rdd.collect()\n",
    "end = timeit.default_timer()\n",
    "print(end-start)"
   ]
  },
  {
   "cell_type": "code",
   "execution_count": 86,
   "metadata": {},
   "outputs": [
    {
     "data": {
      "text/plain": [
       "D:\\Trim 5\\R\\house_prices.csv MapPartitionsRDD[31] at textFile at <unknown>:0"
      ]
     },
     "execution_count": 86,
     "metadata": {},
     "output_type": "execute_result"
    }
   ],
   "source": [
    "house_rdd.unpersist()        #Deleting the cache"
   ]
  },
  {
   "cell_type": "code",
   "execution_count": 89,
   "metadata": {},
   "outputs": [
    {
     "data": {
      "text/plain": [
       "D:\\Trim 5\\R\\house_prices.csv MapPartitionsRDD[31] at textFile at <unknown>:0"
      ]
     },
     "execution_count": 89,
     "metadata": {},
     "output_type": "execute_result"
    }
   ],
   "source": [
    "house_rdd.persist(pyspark.StorageLevel.MEMORY_AND_DISK)"
   ]
  },
  {
   "cell_type": "code",
   "execution_count": 90,
   "metadata": {},
   "outputs": [
    {
     "data": {
      "text/plain": [
       "D:\\Trim 5\\R\\house_prices.csv MapPartitionsRDD[31] at textFile at <unknown>:0"
      ]
     },
     "execution_count": 90,
     "metadata": {},
     "output_type": "execute_result"
    }
   ],
   "source": [
    "house_rdd.unpersist()"
   ]
  },
  {
   "cell_type": "code",
   "execution_count": 91,
   "metadata": {},
   "outputs": [
    {
     "data": {
      "text/plain": [
       "pyspark.broadcast.Broadcast"
      ]
     },
     "execution_count": 91,
     "metadata": {},
     "output_type": "execute_result"
    }
   ],
   "source": [
    "#Broadcast Variables\n",
    "bv=sc.broadcast([1,4,7,3,6,3,6,32])\n",
    "type(bv)"
   ]
  },
  {
   "cell_type": "code",
   "execution_count": 92,
   "metadata": {},
   "outputs": [
    {
     "data": {
      "text/plain": [
       "[1, 4, 7, 3, 6, 3, 6, 32]"
      ]
     },
     "execution_count": 92,
     "metadata": {},
     "output_type": "execute_result"
    }
   ],
   "source": [
    "bv.value"
   ]
  },
  {
   "cell_type": "code",
   "execution_count": 93,
   "metadata": {},
   "outputs": [
    {
     "data": {
      "text/plain": [
       "<bound method Broadcast.destroy of <pyspark.broadcast.Broadcast object at 0x000001F8D7F19988>>"
      ]
     },
     "execution_count": 93,
     "metadata": {},
     "output_type": "execute_result"
    }
   ],
   "source": [
    "bv.destroy"
   ]
  },
  {
   "cell_type": "code",
   "execution_count": 95,
   "metadata": {},
   "outputs": [
    {
     "data": {
      "text/plain": [
       "115"
      ]
     },
     "execution_count": 95,
     "metadata": {},
     "output_type": "execute_result"
    }
   ],
   "source": [
    "#Accumulator\n",
    "av=sc.accumulator(100)\n",
    "sc.parallelize([1,2,3,4,5]).foreach(lambda x:av.add(x))\n",
    "av.value"
   ]
  },
  {
   "cell_type": "code",
   "execution_count": 2,
   "metadata": {},
   "outputs": [],
   "source": [
    "#help(av)"
   ]
  },
  {
   "cell_type": "code",
   "execution_count": 3,
   "metadata": {},
   "outputs": [],
   "source": [
    "#help(sc)"
   ]
  },
  {
   "cell_type": "code",
   "execution_count": null,
   "metadata": {},
   "outputs": [],
   "source": []
  },
  {
   "cell_type": "code",
   "execution_count": null,
   "metadata": {},
   "outputs": [],
   "source": []
  }
 ],
 "metadata": {
  "kernelspec": {
   "display_name": "Python 3",
   "language": "python",
   "name": "python3"
  },
  "language_info": {
   "codemirror_mode": {
    "name": "ipython",
    "version": 3
   },
   "file_extension": ".py",
   "mimetype": "text/x-python",
   "name": "python",
   "nbconvert_exporter": "python",
   "pygments_lexer": "ipython3",
   "version": "3.7.9"
  }
 },
 "nbformat": 4,
 "nbformat_minor": 4
}
